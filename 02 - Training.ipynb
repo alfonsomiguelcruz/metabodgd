{
 "cells": [
  {
   "cell_type": "markdown",
   "id": "561451b2",
   "metadata": {},
   "source": [
    "# 02 - Training"
   ]
  },
  {
   "cell_type": "markdown",
   "id": "e311c165",
   "metadata": {},
   "source": [
    "## A - Libraries"
   ]
  },
  {
   "cell_type": "code",
   "execution_count": 1,
   "id": "4cba4394",
   "metadata": {},
   "outputs": [],
   "source": [
    "import pickle\n",
    "import pandas as pd\n",
    "import numpy as np\n",
    "\n",
    "from metaboDGD.util import data, train\n",
    "from metaboDGD.src import model\n",
    "import matplotlib.pyplot as plt\n",
    "import torch\n",
    "import seaborn as sns\n",
    "plt.rcParams[\"font.family\"] = 'Arial'"
   ]
  },
  {
   "cell_type": "markdown",
   "id": "0dac99ca",
   "metadata": {},
   "source": [
    "## B - Retrieve Dataframe and Cohorts"
   ]
  },
  {
   "cell_type": "code",
   "execution_count": 2,
   "id": "b8a58b9a",
   "metadata": {},
   "outputs": [],
   "source": [
    "dir = 'outputs/'\n",
    "df_fname = 'CombinedDataset_CAMP_Normal.csv'\n",
    "df_tumor_fname = 'CombinedDataset_CAMP_Tumor.csv'\n",
    "cohorts_fname = 'cohorts_Normal.pkl'\n",
    "cohorts_tumor_fname = 'cohorts_Tumor.pkl'"
   ]
  },
  {
   "cell_type": "code",
   "execution_count": 3,
   "id": "11d6560d",
   "metadata": {},
   "outputs": [],
   "source": [
    "df = pd.read_csv(dir + df_fname)\n",
    "df.set_index('Unnamed: 0', inplace=True)\n",
    "df.index.name = None\n",
    "df_lbls = df.loc['cohort'].to_list()\n",
    "df_log = df.T.drop(columns=['cohort']).astype('float64')\n",
    "\n",
    "df_tumor = pd.read_csv(dir + df_tumor_fname)\n",
    "df_tumor.set_index('Unnamed: 0', inplace=True)\n",
    "df_tumor.index.name = None\n",
    "df_tumor_lbls = df_tumor.loc['cohort'].to_list()\n",
    "df_tumor_log = df_tumor.T.drop(columns=['cohort']).astype('float64')\n",
    "\n",
    "\n",
    "# df_exp = pd.read_csv(dir + df_exp_fname)\n",
    "# df_exp.set_index('Unnamed: 0', inplace=True)\n",
    "# df_exp.index.name = None\n",
    "\n",
    "\n",
    "f = open(dir + cohorts_fname, 'rb')\n",
    "cohorts = pickle.load(f)\n",
    "f.close()\n",
    "\n",
    "ft = open(dir + cohorts_tumor_fname, 'rb')\n",
    "cohorts_tumor = pickle.load(ft)"
   ]
  },
  {
   "cell_type": "code",
   "execution_count": 4,
   "id": "65e48ff6",
   "metadata": {},
   "outputs": [],
   "source": [
    "# pca_fit[0:47,0]   ,  BRCA1\n",
    "# pca_fit[47:94,0]  ,  ccRCC\n",
    "# pca_fit[94:118,0] ,  ccRCC\n",
    "# pca_fit[118:157,0],  COAD\n",
    "# pca_fit[157:163,0],  GBM\n",
    "# pca_fit[163:166,0],  HurthleCC\n",
    "# pca_fit[166:178,0],  PDAC\n",
    "# pca_fit[178:224,0],  PRAD\n",
    "\n",
    "# ind_pos = [x for x in range(0,118)] + [x for x in range(157,178)]\n",
    "# plt.hist(df_log['alanine'].to_numpy()[ind_pos], bins=50)\n",
    "# plt.show()"
   ]
  },
  {
   "cell_type": "markdown",
   "id": "17220cca",
   "metadata": {},
   "source": [
    "## C - Initializing DataLoaders and the DGD Model"
   ]
  },
  {
   "cell_type": "code",
   "execution_count": 5,
   "id": "b5b6eb70",
   "metadata": {},
   "outputs": [],
   "source": [
    "train_dict = {}\n",
    "test_dict  = {}\n",
    "\n",
    "train_lbls = []\n",
    "test_lbls  = []"
   ]
  },
  {
   "cell_type": "code",
   "execution_count": 6,
   "id": "611ec14d",
   "metadata": {},
   "outputs": [],
   "source": [
    "train_loader, test_loader = data.create_dataloaders(\n",
    "    cohorts=cohorts,\n",
    "    df=df_log,\n",
    "    batch_size=32\n",
    ")"
   ]
  },
  {
   "cell_type": "code",
   "execution_count": 14,
   "id": "c9a45950",
   "metadata": {},
   "outputs": [],
   "source": [
    "dgd_model = model.MetaboDGD(\n",
    "    latent_dim=20,\n",
    "    output_dim=df_log.shape[1],\n",
    "    dec_hidden_layers_dim=[500, 1500],\n",
    "    dec_output_prediction_type='mean',\n",
    "    dec_output_activation_type='softplus',\n",
    "    n_comp=6,\n",
    "    cm_type='diagonal',\n",
    "    gaussian_stddev=0.5\n",
    ")"
   ]
  },
  {
   "cell_type": "markdown",
   "id": "f5773296",
   "metadata": {},
   "source": [
    "## D - Training the DGD Model"
   ]
  },
  {
   "cell_type": "code",
   "execution_count": null,
   "id": "e0575834",
   "metadata": {},
   "outputs": [],
   "source": [
    "dgd_model, train_rep, test_rep, history, cm = train.train_dgd(\n",
    "    dgd_model=dgd_model,\n",
    "    train_loader=train_loader,\n",
    "    validation_loader=test_loader,\n",
    "    n_epochs=250,\n",
    "    lr_schedule_epochs=None,\n",
    "    lr_schedule=[1e-4, 1e-3, 1e-2], # dec, rep, gmm\n",
    "    optim_betas=[0.5, 0.7],\n",
    "    wd=1e-5,\n",
    ")\n",
    "\n",
    "train.get_history_plot(history, inc_gmm_acc=True)"
   ]
  },
  {
   "cell_type": "code",
   "execution_count": null,
   "id": "5ae6c0f5",
   "metadata": {},
   "outputs": [],
   "source": [
    "torch.load('98_85_acc/torch_outputs_dec.pt')"
   ]
  },
  {
   "cell_type": "code",
   "execution_count": 7,
   "id": "7c9f43d6",
   "metadata": {},
   "outputs": [
    {
     "ename": "RuntimeError",
     "evalue": "Error(s) in loading state_dict for Decoder:\n\tUnexpected key(s) in state_dict: \"nn.1.weight\", \"nn.3.weight\". ",
     "output_type": "error",
     "traceback": [
      "\u001b[31m---------------------------------------------------------------------------\u001b[39m",
      "\u001b[31mRuntimeError\u001b[39m                              Traceback (most recent call last)",
      "\u001b[36mCell\u001b[39m\u001b[36m \u001b[39m\u001b[32mIn[7]\u001b[39m\u001b[32m, line 14\u001b[39m\n\u001b[32m      1\u001b[39m dgd_final = model.MetaboDGD(\n\u001b[32m      2\u001b[39m     latent_dim=\u001b[32m20\u001b[39m,\n\u001b[32m      3\u001b[39m     output_dim=df_log.shape[\u001b[32m1\u001b[39m],\n\u001b[32m   (...)\u001b[39m\u001b[32m      9\u001b[39m     gaussian_stddev=\u001b[32m0.5\u001b[39m\n\u001b[32m     10\u001b[39m )\n\u001b[32m     12\u001b[39m \u001b[38;5;66;03m# dgd_final.dec.load_state_dict(torch.load('torch_outputs/torch_outputs_dec.pt'))\u001b[39;00m\n\u001b[32m     13\u001b[39m \u001b[38;5;66;03m# dgd_final.gmm.load_state_dict(torch.load('torch_outputs/torch_outputs_gmm.pt'))\u001b[39;00m\n\u001b[32m---> \u001b[39m\u001b[32m14\u001b[39m \u001b[43mdgd_final\u001b[49m\u001b[43m.\u001b[49m\u001b[43mdec\u001b[49m\u001b[43m.\u001b[49m\u001b[43mload_state_dict\u001b[49m\u001b[43m(\u001b[49m\u001b[43mtorch\u001b[49m\u001b[43m.\u001b[49m\u001b[43mload\u001b[49m\u001b[43m(\u001b[49m\u001b[33;43m'\u001b[39;49m\u001b[33;43m98_85_acc/torch_outputs_dec.pt\u001b[39;49m\u001b[33;43m'\u001b[39;49m\u001b[43m)\u001b[49m\u001b[43m)\u001b[49m\n\u001b[32m     15\u001b[39m dgd_final.gmm.load_state_dict(torch.load(\u001b[33m'\u001b[39m\u001b[33m98_85_acc/torch_outputs_gmm.pt\u001b[39m\u001b[33m'\u001b[39m))\n",
      "\u001b[36mFile \u001b[39m\u001b[32mc:\\AnacondaDestination\\envs\\metabodgd\\Lib\\site-packages\\torch\\nn\\modules\\module.py:2593\u001b[39m, in \u001b[36mModule.load_state_dict\u001b[39m\u001b[34m(self, state_dict, strict, assign)\u001b[39m\n\u001b[32m   2585\u001b[39m         error_msgs.insert(\n\u001b[32m   2586\u001b[39m             \u001b[32m0\u001b[39m,\n\u001b[32m   2587\u001b[39m             \u001b[33m\"\u001b[39m\u001b[33mMissing key(s) in state_dict: \u001b[39m\u001b[38;5;132;01m{}\u001b[39;00m\u001b[33m. \u001b[39m\u001b[33m\"\u001b[39m.format(\n\u001b[32m   2588\u001b[39m                 \u001b[33m\"\u001b[39m\u001b[33m, \u001b[39m\u001b[33m\"\u001b[39m.join(\u001b[33mf\u001b[39m\u001b[33m'\u001b[39m\u001b[33m\"\u001b[39m\u001b[38;5;132;01m{\u001b[39;00mk\u001b[38;5;132;01m}\u001b[39;00m\u001b[33m\"\u001b[39m\u001b[33m'\u001b[39m \u001b[38;5;28;01mfor\u001b[39;00m k \u001b[38;5;129;01min\u001b[39;00m missing_keys)\n\u001b[32m   2589\u001b[39m             ),\n\u001b[32m   2590\u001b[39m         )\n\u001b[32m   2592\u001b[39m \u001b[38;5;28;01mif\u001b[39;00m \u001b[38;5;28mlen\u001b[39m(error_msgs) > \u001b[32m0\u001b[39m:\n\u001b[32m-> \u001b[39m\u001b[32m2593\u001b[39m     \u001b[38;5;28;01mraise\u001b[39;00m \u001b[38;5;167;01mRuntimeError\u001b[39;00m(\n\u001b[32m   2594\u001b[39m         \u001b[33m\"\u001b[39m\u001b[33mError(s) in loading state_dict for \u001b[39m\u001b[38;5;132;01m{}\u001b[39;00m\u001b[33m:\u001b[39m\u001b[38;5;130;01m\\n\u001b[39;00m\u001b[38;5;130;01m\\t\u001b[39;00m\u001b[38;5;132;01m{}\u001b[39;00m\u001b[33m\"\u001b[39m.format(\n\u001b[32m   2595\u001b[39m             \u001b[38;5;28mself\u001b[39m.\u001b[34m__class__\u001b[39m.\u001b[34m__name__\u001b[39m, \u001b[33m\"\u001b[39m\u001b[38;5;130;01m\\n\u001b[39;00m\u001b[38;5;130;01m\\t\u001b[39;00m\u001b[33m\"\u001b[39m.join(error_msgs)\n\u001b[32m   2596\u001b[39m         )\n\u001b[32m   2597\u001b[39m     )\n\u001b[32m   2598\u001b[39m \u001b[38;5;28;01mreturn\u001b[39;00m _IncompatibleKeys(missing_keys, unexpected_keys)\n",
      "\u001b[31mRuntimeError\u001b[39m: Error(s) in loading state_dict for Decoder:\n\tUnexpected key(s) in state_dict: \"nn.1.weight\", \"nn.3.weight\". "
     ]
    }
   ],
   "source": [
    "dgd_final = model.MetaboDGD(\n",
    "    latent_dim=20,\n",
    "    output_dim=df_log.shape[1],\n",
    "    dec_hidden_layers_dim=[500, 1500],\n",
    "    dec_output_prediction_type='mean',\n",
    "    dec_output_activation_type='softplus',\n",
    "    n_comp=8,\n",
    "    cm_type='diagonal',\n",
    "    gaussian_stddev=0.5\n",
    ")\n",
    "\n",
    "# dgd_final.dec.load_state_dict(torch.load('torch_outputs/torch_outputs_dec.pt'))\n",
    "# dgd_final.gmm.load_state_dict(torch.load('torch_outputs/torch_outputs_gmm.pt'))\n",
    "dgd_final.dec.load_state_dict(torch.load('98_85_acc/torch_outputs_dec.pt'))\n",
    "dgd_final.gmm.load_state_dict(torch.load('98_85_acc/torch_outputs_gmm.pt'))"
   ]
  },
  {
   "cell_type": "code",
   "execution_count": 8,
   "id": "42b84f55",
   "metadata": {},
   "outputs": [
    {
     "data": {
      "text/plain": [
       "<All keys matched successfully>"
      ]
     },
     "execution_count": 8,
     "metadata": {},
     "output_type": "execute_result"
    }
   ],
   "source": [
    "from metaboDGD.src.latent import RepresentationLayer\n",
    "train_rep_final = RepresentationLayer(values=torch.zeros(size=(len(train_loader.dataset), dgd_final.gmm.dim)))\n",
    "# train_rep_final.load_state_dict(torch.load('torch_outputs/torch_outputs_train_rep.pt'))\n",
    "train_rep_final.load_state_dict(torch.load('98_85_acc/torch_outputs_train_rep.pt'))"
   ]
  },
  {
   "cell_type": "code",
   "execution_count": null,
   "id": "eb520924",
   "metadata": {},
   "outputs": [],
   "source": [
    "tumor_rep_final, dec_out_final = dgd_final.get_representations(df_tumor_log, df_tumor_lbls, df_tumor_log.shape[0])"
   ]
  },
  {
   "cell_type": "markdown",
   "id": "62e2cdec",
   "metadata": {},
   "source": [
    "## F - Training Results"
   ]
  },
  {
   "cell_type": "markdown",
   "id": "1cb25901",
   "metadata": {},
   "source": [
    "### The History Table"
   ]
  },
  {
   "cell_type": "code",
   "execution_count": null,
   "id": "a7d4c5a1",
   "metadata": {},
   "outputs": [
    {
     "data": {
      "text/html": [
       "<div>\n",
       "<style scoped>\n",
       "    .dataframe tbody tr th:only-of-type {\n",
       "        vertical-align: middle;\n",
       "    }\n",
       "\n",
       "    .dataframe tbody tr th {\n",
       "        vertical-align: top;\n",
       "    }\n",
       "\n",
       "    .dataframe thead th {\n",
       "        text-align: right;\n",
       "    }\n",
       "</style>\n",
       "<table border=\"1\" class=\"dataframe\">\n",
       "  <thead>\n",
       "    <tr style=\"text-align: right;\">\n",
       "      <th></th>\n",
       "      <th>train_loss</th>\n",
       "      <th>val_loss</th>\n",
       "      <th>train_recon_loss</th>\n",
       "      <th>val_recon_loss</th>\n",
       "      <th>train_dist_loss</th>\n",
       "      <th>val_dist_loss</th>\n",
       "      <th>cluster_acc</th>\n",
       "      <th>epoch</th>\n",
       "    </tr>\n",
       "  </thead>\n",
       "  <tbody>\n",
       "    <tr>\n",
       "      <th>0</th>\n",
       "      <td>10.027155</td>\n",
       "      <td>9.891689</td>\n",
       "      <td>9.209253</td>\n",
       "      <td>9.149130</td>\n",
       "      <td>74.756316</td>\n",
       "      <td>67.869947</td>\n",
       "      <td>0.342593</td>\n",
       "      <td>1</td>\n",
       "    </tr>\n",
       "    <tr>\n",
       "      <th>1</th>\n",
       "      <td>9.907102</td>\n",
       "      <td>9.779315</td>\n",
       "      <td>9.197715</td>\n",
       "      <td>9.134773</td>\n",
       "      <td>64.837956</td>\n",
       "      <td>58.911095</td>\n",
       "      <td>0.342593</td>\n",
       "      <td>2</td>\n",
       "    </tr>\n",
       "    <tr>\n",
       "      <th>2</th>\n",
       "      <td>9.797038</td>\n",
       "      <td>9.673914</td>\n",
       "      <td>9.181466</td>\n",
       "      <td>9.115042</td>\n",
       "      <td>56.263257</td>\n",
       "      <td>51.080844</td>\n",
       "      <td>0.342593</td>\n",
       "      <td>3</td>\n",
       "    </tr>\n",
       "    <tr>\n",
       "      <th>3</th>\n",
       "      <td>9.693166</td>\n",
       "      <td>9.573477</td>\n",
       "      <td>9.159656</td>\n",
       "      <td>9.089607</td>\n",
       "      <td>48.762739</td>\n",
       "      <td>44.225753</td>\n",
       "      <td>0.342593</td>\n",
       "      <td>4</td>\n",
       "    </tr>\n",
       "    <tr>\n",
       "      <th>4</th>\n",
       "      <td>9.593713</td>\n",
       "      <td>9.476908</td>\n",
       "      <td>9.132038</td>\n",
       "      <td>9.058670</td>\n",
       "      <td>42.197107</td>\n",
       "      <td>38.226871</td>\n",
       "      <td>0.342593</td>\n",
       "      <td>5</td>\n",
       "    </tr>\n",
       "    <tr>\n",
       "      <th>...</th>\n",
       "      <td>...</td>\n",
       "      <td>...</td>\n",
       "      <td>...</td>\n",
       "      <td>...</td>\n",
       "      <td>...</td>\n",
       "      <td>...</td>\n",
       "      <td>...</td>\n",
       "      <td>...</td>\n",
       "    </tr>\n",
       "    <tr>\n",
       "      <th>245</th>\n",
       "      <td>2.741956</td>\n",
       "      <td>2.791810</td>\n",
       "      <td>2.695007</td>\n",
       "      <td>2.744847</td>\n",
       "      <td>4.291089</td>\n",
       "      <td>4.292421</td>\n",
       "      <td>0.759259</td>\n",
       "      <td>246</td>\n",
       "    </tr>\n",
       "    <tr>\n",
       "      <th>246</th>\n",
       "      <td>2.738974</td>\n",
       "      <td>2.787789</td>\n",
       "      <td>2.692017</td>\n",
       "      <td>2.740863</td>\n",
       "      <td>4.291875</td>\n",
       "      <td>4.289051</td>\n",
       "      <td>0.666667</td>\n",
       "      <td>247</td>\n",
       "    </tr>\n",
       "    <tr>\n",
       "      <th>247</th>\n",
       "      <td>2.736075</td>\n",
       "      <td>2.784083</td>\n",
       "      <td>2.689109</td>\n",
       "      <td>2.737095</td>\n",
       "      <td>4.292735</td>\n",
       "      <td>4.294742</td>\n",
       "      <td>0.814815</td>\n",
       "      <td>248</td>\n",
       "    </tr>\n",
       "    <tr>\n",
       "      <th>248</th>\n",
       "      <td>2.733400</td>\n",
       "      <td>2.780509</td>\n",
       "      <td>2.686413</td>\n",
       "      <td>2.733562</td>\n",
       "      <td>4.294627</td>\n",
       "      <td>4.290992</td>\n",
       "      <td>0.703704</td>\n",
       "      <td>249</td>\n",
       "    </tr>\n",
       "    <tr>\n",
       "      <th>249</th>\n",
       "      <td>2.730785</td>\n",
       "      <td>2.777256</td>\n",
       "      <td>2.683797</td>\n",
       "      <td>2.730239</td>\n",
       "      <td>4.294754</td>\n",
       "      <td>4.297356</td>\n",
       "      <td>0.888889</td>\n",
       "      <td>250</td>\n",
       "    </tr>\n",
       "  </tbody>\n",
       "</table>\n",
       "<p>250 rows × 8 columns</p>\n",
       "</div>"
      ],
      "text/plain": [
       "     train_loss  val_loss  train_recon_loss  val_recon_loss  train_dist_loss  \\\n",
       "0     10.027155  9.891689          9.209253        9.149130        74.756316   \n",
       "1      9.907102  9.779315          9.197715        9.134773        64.837956   \n",
       "2      9.797038  9.673914          9.181466        9.115042        56.263257   \n",
       "3      9.693166  9.573477          9.159656        9.089607        48.762739   \n",
       "4      9.593713  9.476908          9.132038        9.058670        42.197107   \n",
       "..          ...       ...               ...             ...              ...   \n",
       "245    2.741956  2.791810          2.695007        2.744847         4.291089   \n",
       "246    2.738974  2.787789          2.692017        2.740863         4.291875   \n",
       "247    2.736075  2.784083          2.689109        2.737095         4.292735   \n",
       "248    2.733400  2.780509          2.686413        2.733562         4.294627   \n",
       "249    2.730785  2.777256          2.683797        2.730239         4.294754   \n",
       "\n",
       "     val_dist_loss  cluster_acc  epoch  \n",
       "0        67.869947     0.342593      1  \n",
       "1        58.911095     0.342593      2  \n",
       "2        51.080844     0.342593      3  \n",
       "3        44.225753     0.342593      4  \n",
       "4        38.226871     0.342593      5  \n",
       "..             ...          ...    ...  \n",
       "245       4.292421     0.759259    246  \n",
       "246       4.289051     0.666667    247  \n",
       "247       4.294742     0.814815    248  \n",
       "248       4.290992     0.703704    249  \n",
       "249       4.297356     0.888889    250  \n",
       "\n",
       "[250 rows x 8 columns]"
      ]
     },
     "execution_count": 27,
     "metadata": {},
     "output_type": "execute_result"
    }
   ],
   "source": [
    "history"
   ]
  },
  {
   "cell_type": "markdown",
   "id": "fe59dcea",
   "metadata": {},
   "source": [
    "### Figure X. Matrix"
   ]
  },
  {
   "cell_type": "code",
   "execution_count": null,
   "id": "982c6750",
   "metadata": {},
   "outputs": [
    {
     "data": {
      "text/plain": [
       "np.float64(7015813.46157016)"
      ]
     },
     "execution_count": 30,
     "metadata": {},
     "output_type": "execute_result"
    }
   ],
   "source": [
    "def get_aic(dgd, history):\n",
    "    k = num_parameeters = sum(p.numel() for p in dgd.dec.parameters() if p.requires_grad) + sum(p.numel() for p in dgd.gmm.parameters() if p.requires_grad)\n",
    "    return 2 * k + 2 * history.iloc[-1]['train_loss']\n",
    "\n",
    "get_aic(dgd_model, history)"
   ]
  },
  {
   "cell_type": "code",
   "execution_count": null,
   "id": "8f8655ea",
   "metadata": {},
   "outputs": [],
   "source": [
    "from sklearn.preprocessing import LabelEncoder\n",
    "from sklearn.metrics import adjusted_rand_score, confusion_matrix\n",
    "from scipy.optimize import linear_sum_assignment\n",
    "\n",
    "le = LabelEncoder()\n",
    "true_labels = le.fit_transform(train_loader.dataset.get_labels())\n",
    "clustering  = torch.exp(dgd_model.gmm.get_log_prob_comp(train_rep.z.detach()))\n",
    "pred_labels = torch.max(clustering, dim=-1).indices.cpu().detach().numpy()\n",
    "cm_test = confusion_matrix(true_labels, pred_labels)\n",
    "cm_test\n",
    "\n",
    "idxs = linear_sum_assignment(-cm_test + np.max(cm_test))\n",
    "cm_test2 = cm_test[:, idxs[1]]\n",
    "# print(true_labels)\n",
    "# print(pred_labels)\n",
    "\n",
    "# print(cm_test)\n",
    "\n",
    "# adjusted_rand_score(true_labels, pred_labels)"
   ]
  },
  {
   "cell_type": "code",
   "execution_count": null,
   "id": "ff747ce2",
   "metadata": {},
   "outputs": [
    {
     "name": "stderr",
     "output_type": "stream",
     "text": [
      "C:\\Users\\Alfonso Miguel Cruz\\AppData\\Local\\Temp\\ipykernel_37952\\3266129158.py:1: RuntimeWarning: invalid value encountered in divide\n",
      "  cm_norm = np.round(np.nan_to_num(cm / np.sum(cm, axis=0) * 100), decimals=1)\n"
     ]
    },
    {
     "data": {
      "image/png": "[encoded data removed]",
      "text/plain": [
       "<Figure size 700x500 with 3 Axes>"
      ]
     },
     "metadata": {},
     "output_type": "display_data"
    }
   ],
   "source": [
    "cm_norm = np.round(np.nan_to_num(cm / np.sum(cm, axis=0) * 100), decimals=1)\n",
    "# np.sum(cm, axis=0)\n",
    "\n",
    "class_lbls = list(cohorts.keys())\n",
    "# sample_num_lbls = [len(cohorts[c]['sample_list']) for c in cohorts.keys()]\n",
    "sample_num_lbls = [37,37,19,31,4,2,9,36]\n",
    "# plt.rcParams[\"font.family\"] = 'sans-serif'\n",
    "\n",
    "zr_mask = np.where(cm_norm > 0, False, True)\n",
    "\n",
    "fig, ax = plt.subplots(figsize=(7,5))\n",
    "\n",
    "sns.heatmap(cm_norm, cmap='Blues',\n",
    "            annot=True,\n",
    "            fmt='g',\n",
    "            xticklabels=np.sum(cm, axis=0),\n",
    "            yticklabels=class_lbls,\n",
    "            linewidths=0.1,\n",
    "            mask=zr_mask,\n",
    "            linecolor='black',\n",
    "            ax=ax,\n",
    "            cbar_kws={\n",
    "                'pad': 0.15,\n",
    "                'shrink': 0.375,\n",
    "                'aspect': 5,\n",
    "                'anchor': (0.0, 1.0)\n",
    "            })\n",
    "\n",
    "ax_y = ax.twinx()\n",
    "ax.set_xticklabels(ax.get_xticklabels(), rotation=0)\n",
    "ax.set_yticklabels(ax.get_yticklabels(), rotation=0)\n",
    "ax.tick_params(axis='both', length=0)\n",
    "\n",
    "ax_y.set_yticks(ax.get_yticks())\n",
    "ax_y.set_ylim(ax.get_ylim())\n",
    "ax_y.set_yticklabels(sample_num_lbls)\n",
    "ax_y.tick_params(axis='y', length=0)\n",
    "\n",
    "ax.set_xlabel('Samples per component', fontsize=14, labelpad=15)\n",
    "ax_y.set_ylabel('Samples per tissue' , fontsize=14, labelpad=30, rotation=270)\n",
    "\n",
    "ax.tick_params(  axis='y', direction='out', pad=5)\n",
    "ax_y.tick_params(axis='y', direction='out', pad=5)\n",
    "\n",
    "ax.set_title('Gaussian Components', pad=15, fontsize=14)\n",
    "\n",
    "# fig.subplots_adjust(bottom=0.5)\n",
    "plt.tight_layout()"
   ]
  },
  {
   "cell_type": "markdown",
   "id": "a7d7348d",
   "metadata": {},
   "source": [
    "### Figure X. PCA Code"
   ]
  },
  {
   "cell_type": "code",
   "execution_count": null,
   "id": "721ab1a8",
   "metadata": {},
   "outputs": [
    {
     "data": {
      "text/plain": [
       "<matplotlib.legend.Legend at 0x21bf87d05c0>"
      ]
     },
     "execution_count": 13,
     "metadata": {},
     "output_type": "execute_result"
    },
    {
     "data": {
      "image/png": "[encoded data removed]",
      "text/plain": [
       "<Figure size 600x400 with 1 Axes>"
      ]
     },
     "metadata": {},
     "output_type": "display_data"
    }
   ],
   "source": [
    "from sklearn.decomposition import PCA\n",
    "from matplotlib.patches import Ellipse\n",
    "# import umap\n",
    "means_and_reps = np.vstack((train_rep.z.detach().numpy(),dgd_final.gmm.means.detach().numpy()))\n",
    "# means_and_reps = np.vstack((train_rep_final.z.detach().numpy(),dgd_final.gmm.means.detach().numpy()))\n",
    "# pca = umap.UMAP(n_neighbors=2)\n",
    "pca = PCA(n_components=2)\n",
    "pca_fit = pca.fit_transform(means_and_reps)\n",
    "# pca_fit        = pca.fit_transform(train_rep_final.z.detach().numpy())\n",
    "# pca_fit_means  = pca.transform(dgd_final.gmm.means.detach().numpy())\n",
    "fig, ax = plt.subplots(figsize=(6,4))\n",
    "ax.scatter(pca_fit[0:37,0]   , pca_fit[0:37,1]   , label='Breast'    )\n",
    "ax.scatter(pca_fit[37:74,0]  , pca_fit[37:74,1]  , label='Colon'     )\n",
    "ax.scatter(pca_fit[74:93,0]  , pca_fit[74:93,1]  , label='Kidney 3'   )\n",
    "ax.scatter(pca_fit[93:124,0] , pca_fit[93:124,1] , label='Kidney 4'   )\n",
    "ax.scatter(pca_fit[124:128,0], pca_fit[124:128,1], label='Brain'      )\n",
    "ax.scatter(pca_fit[128:130,0], pca_fit[128:130,1], label='Thyroid')\n",
    "ax.scatter(pca_fit[130:139,0], pca_fit[130:139,1], label='Pancreas'     )\n",
    "ax.scatter(pca_fit[139:175,0], pca_fit[139:175,1], label='Prostate'     )\n",
    "ax.scatter(pca_fit[175:,0], pca_fit[175:,1], label='GMM Means', c='black', marker='*')\n",
    "# ax.scatter(pca_fit[0:19,0] , pca_fit[0:19,1] , label='Kidney 4'   )\n",
    "# ax.scatter(pca_fit[19:28,0], pca_fit[19:28,1], label='Pancreas'     )\n",
    "# ax.scatter(pca_fit[28:64,0], pca_fit[28:64,1], label='Prostate'     )\n",
    "# ax.scatter(pca_fit[64:,0], pca_fit[64:,1], label='GMM Means', c='black', marker='*')\n",
    "\n",
    "P = pca.components_\n",
    "for x in range(0, 3):\n",
    "    cov_2d = np.diag(torch.exp(dgd_final.gmm.log_var).detach().numpy()[x])\n",
    "    # print(cov_2d)\n",
    "    mean_2d = P @ (dgd_final.gmm.means.detach().numpy()[x] - pca.mean_)\n",
    "    # mean_2d = pca_fit[175+x]\n",
    "    cov_2d_projected = P @ cov_2d @ P.T\n",
    "\n",
    "    vals, vecs = np.linalg.eigh(cov_2d_projected)\n",
    "    order = vals.argsort()[::-1]\n",
    "    vals, vecs = vals[order], vecs[:, order]\n",
    "    angle = np.degrees(np.arctan2(vecs[1, 0], vecs[0, 0]))\n",
    "    \n",
    "    std = 1.0\n",
    "    w, h = 2 * std * np.sqrt(vals)\n",
    "    ellipse = Ellipse(xy=mean_2d, width=w, height=h, angle=angle,\n",
    "                      facecolor='none', linewidth=1, edgecolor='black', alpha=0.2)\n",
    "    ax.add_patch(ellipse)\n",
    "\n",
    "\n",
    "# ax.scatter(pca_fit_means[:,0], pca_fit_means[:,1], label='Means', c='black'     )\n",
    "ax.set_title('Training Representations and Means in Latent Space')\n",
    "\n",
    "ax.set_xlabel(f'PC1 ({(pca.explained_variance_ratio_[0] * 100):.2f}%)', labelpad=10)\n",
    "ax.set_ylabel(f'PC2 ({(pca.explained_variance_ratio_[1] * 100):.2f}%)')\n",
    "# ax.set_xlabel('UMAP D1')\n",
    "# ax.set_ylabel('UMAP D2')\n",
    "ax.legend(bbox_to_anchor=(1.30, 1.025),loc='upper right', fancybox=False, framealpha=0.0, title='Tissue Type', alignment='left')"
   ]
  },
  {
   "cell_type": "code",
   "execution_count": null,
   "id": "b05008b7",
   "metadata": {},
   "outputs": [
    {
     "data": {
      "text/plain": [
       "<matplotlib.legend.Legend at 0x21d1d9c6c00>"
      ]
     },
     "execution_count": 21,
     "metadata": {},
     "output_type": "execute_result"
    },
    {
     "data": {
      "image/png": "[encoded data removed]",
      "text/plain": [
       "<Figure size 600x400 with 1 Axes>"
      ]
     },
     "metadata": {},
     "output_type": "display_data"
    }
   ],
   "source": [
    "pca_tumor = PCA(n_components=2)\n",
    "means_and_tumor_reps = np.vstack((tumor_rep_final.detach(), dgd_final.gmm.means.detach().numpy()))\n",
    "pca_fit = pca_tumor.fit_transform(means_and_tumor_reps)\n",
    "\n",
    "fig, ax = plt.subplots(figsize=(6,4))\n",
    "ax.scatter(pca_fit[0:61,0]  , pca_fit[0:61,1]  , label='BRCA1'     )\n",
    "ax.scatter(pca_fit[61:128,0]  , pca_fit[61:128,1]  , label='COAD'     )\n",
    "ax.scatter(pca_fit[128:180,0]  , pca_fit[128:180,1]  , label='ccRCC3'   )\n",
    "ax.scatter(pca_fit[180:217,0] , pca_fit[180:217,1] , label='ccRCC4'   )\n",
    "ax.scatter(pca_fit[217:291,0], pca_fit[217:291,1], label='GBM'      )\n",
    "ax.scatter(pca_fit[291:319,0], pca_fit[291:319,1], label='HurthleCC')\n",
    "ax.scatter(pca_fit[319:346,0], pca_fit[319:346,1], label='PDAC'     )\n",
    "ax.scatter(pca_fit[346:437,0], pca_fit[346:437,1], label='PRAD'     )\n",
    "ax.scatter(pca_fit[437:,0], pca_fit[437:,1], label='GMM Means', c='black', marker='*')\n",
    "ax.set_title('Tumor Representations and Means in Latent Space')\n",
    "\n",
    "ax.set_xlabel(f'PC1 ({(pca_tumor.explained_variance_ratio_[0] * 100):.2f}%)', labelpad=10)\n",
    "ax.set_ylabel(f'PC2 ({(pca_tumor.explained_variance_ratio_[1] * 100):.2f}%)')\n",
    "ax.legend(bbox_to_anchor=(1.30, 1.025),loc='upper right', fancybox=False, framealpha=0.0, title='Tissue Type', alignment='left')"
   ]
  },
  {
   "cell_type": "markdown",
   "id": "957b9016",
   "metadata": {},
   "source": [
    "### Figure X. Tumor Matrix"
   ]
  },
  {
   "cell_type": "code",
   "execution_count": null,
   "id": "73915270",
   "metadata": {},
   "outputs": [],
   "source": [
    "from sklearn.preprocessing import LabelEncoder\n",
    "from sklearn.metrics import confusion_matrix\n",
    "le = LabelEncoder()\n",
    "true_labels = le.fit_transform(df_tumor_lbls[0:61])\n",
    "clustering  = torch.exp(dgd_model.gmm.get_log_prob_comp(rep_final.detach()))\n",
    "pred_labels = torch.max(clustering, dim=-1).indices.cpu().detach()\n",
    "cm_tumor = confusion_matrix(true_labels, pred_labels)"
   ]
  },
  {
   "cell_type": "code",
   "execution_count": null,
   "id": "9de3dd12",
   "metadata": {},
   "outputs": [],
   "source": [
    "# cm_norm = np.round(np.nan_to_num(cm / np.sum(cm, axis=0) * 100), decimals=1)\n",
    "# np.sum(cm, axis=0)\n",
    "\n",
    "class_lbls = list(cohorts.keys())\n",
    "# sample_num_lbls = [len(cohorts[c]['sample_list']) for c in cohorts.keys()]\n",
    "plt.rcParams[\"font.family\"] = 'Arial'\n",
    "# plt.rcParams[\"font.family\"] = 'sans-serif'\n",
    "\n",
    "zr_mask = np.where(cm_tumor > 0, False, True)\n",
    "\n",
    "fig, ax = plt.subplots(figsize=(7,5))\n",
    "\n",
    "sns.heatmap(cm_tumor, cmap='Blues',\n",
    "            annot=True,\n",
    "            fmt='g',\n",
    "            xticklabels=class_lbls,\n",
    "            yticklabels=class_lbls,\n",
    "            linewidths=0.1,\n",
    "            mask=zr_mask,\n",
    "            linecolor='black',\n",
    "            ax=ax,\n",
    "            cbar_kws={\n",
    "                'pad': 0.15,\n",
    "                'shrink': 0.375,\n",
    "                'aspect': 5,\n",
    "                'anchor': (0.0, 1.0)\n",
    "            })\n",
    "\n",
    "# ax_y = ax.twinx()\n",
    "ax.set_xticklabels(ax.get_xticklabels(), rotation=90)\n",
    "ax.set_yticklabels(ax.get_yticklabels(), rotation=0)\n",
    "ax.tick_params(axis='both', length=0)\n",
    "\n",
    "# ax_y.set_yticks(ax.get_yticks())\n",
    "# ax_y.set_ylim(ax.get_ylim())\n",
    "# ax_y.set_yticklabels(class_lbls)\n",
    "# ax_y.tick_params(axis='y', length=0)\n",
    "\n",
    "ax.set_xlabel('GMM Components', fontsize=14, labelpad=15)\n",
    "# ax_y.set_ylabel('Samples per tissue' , fontsize=14, labelpad=30, rotation=270)\n",
    "\n",
    "ax.tick_params(  axis='y', direction='out', pad=5)\n",
    "# ax_y.tick_params(axis='y', direction='out', pad=5)\n",
    "\n",
    "ax.set_title('Gaussian Components', pad=15, fontsize=14)\n",
    "\n",
    "# fig.subplots_adjust(bottom=0.5)\n",
    "plt.tight_layout()"
   ]
  },
  {
   "cell_type": "code",
   "execution_count": null,
   "id": "c0a99203",
   "metadata": {},
   "outputs": [],
   "source": [
    "# pca_rep_final = PCA(n_components=2)\n",
    "import umap\n",
    "um = umap.UMAP(random_state=100)\n",
    "\n",
    "rep_final_res = um.fit_transform(rep_final.detach().numpy())\n",
    "iter_list = [(0, 61, 'BRCA1'), (61, 128, 'ccRCC3'),\n",
    "             (128, 180, 'ccRCC4'), (180, 217, 'COAD'),\n",
    "             (217, 291, 'GBM'), (291, 319, 'HurthleCC'),\n",
    "             (319, 346, 'PDAC'), (346, 437, 'PRAD')]\n",
    "for i,j, lbl in iter_list:\n",
    "    plt.scatter(rep_final_res[i:j,0], rep_final_res[i:j, 1], label=lbl)\n",
    "# plt.legend()"
   ]
  },
  {
   "cell_type": "markdown",
   "id": "153ca99c",
   "metadata": {},
   "source": [
    "# OTHER CODE"
   ]
  },
  {
   "cell_type": "code",
   "execution_count": null,
   "id": "02179bf5",
   "metadata": {},
   "outputs": [],
   "source": [
    "from sklearn.decomposition import PCA\n",
    "pca = PCA(n_components=5)\n",
    "pca_fit = pca.fit_transform(df_log.to_numpy())\n",
    "for (i,j) in [(0,47), (47,94), (94,118), (118,157), (157,163), (163,166), (166,178), (178,224)]:\n",
    "    print(np.var(pca_fit[i:j], axis=0))"
   ]
  },
  {
   "cell_type": "code",
   "execution_count": null,
   "id": "5c015795",
   "metadata": {},
   "outputs": [],
   "source": [
    "# import matplotlib.pyplot as plt\n",
    "# import umap\n",
    "from sklearn.decomposition import PCA\n",
    "pca = PCA(n_components=2)\n",
    "# pca_fit = pca_test.fit_transform(df_log.to_numpy())\n",
    "# pca_fit = pca.fit_transform(np.exp2(df.T.to_numpy()[:,:-1].astype(np.float64)))\n",
    "pca_fit = pca.fit_transform(train_rep.z.detach().numpy())\n",
    "# pca_fit = pca.fit_transform(test_rep.z.detach().numpy())\n",
    "\n",
    "# um = umap.UMAP(random_state=100)\n",
    "# pca_fit = um.fit_transform(df.T.to_numpy()[:, :-1])\n",
    "# pca_fit = um.fit_transform(df_exp_smote.to_numpy())\n",
    "fig, ax = plt.subplots(figsize=(6,4))\n",
    "### ALL \n",
    "# pca_fit = um.fit_transform(df_log.to_numpy())\n",
    "# ax.scatter(pca_fit[0:47,0]   , pca_fit[0:47,1]   , label='BRCA1'    )\n",
    "# ax.scatter(pca_fit[47:94,0]  , pca_fit[47:94,1]  , label='COAD'     )\n",
    "# ax.scatter(pca_fit[94:118,0]  , pca_fit[94:118,1]  , label='ccRCC3' )\n",
    "# ax.scatter(pca_fit[118:157,0] , pca_fit[118:157,1] , label='ccRCC4' )\n",
    "# ax.scatter(pca_fit[157:163,0], pca_fit[157:163,1], label='GBM'      )\n",
    "# ax.scatter(pca_fit[163:166,0], pca_fit[163:166,1], label='HurthleCC')\n",
    "# ax.scatter(pca_fit[166:178,0], pca_fit[166:178,1], label='PDAC'     )\n",
    "# ax.scatter(pca_fit[178:224,0], pca_fit[178:224,1], label='PRAD'     )\n",
    "# ax.set_title('PCA - ALL')\n",
    "\n",
    "### TRAIN_REP\n",
    "# pca_fit = um.fit_transform(train_rep.z.detach().numpy())\n",
    "ax.scatter(pca_fit[0:37,0]   , pca_fit[0:37,1]   , label='BRCA1'    )\n",
    "ax.scatter(pca_fit[37:74,0]  , pca_fit[37:74,1]  , label='COAD'     )\n",
    "ax.scatter(pca_fit[74:93,0]  , pca_fit[74:93,1]  , label='ccRCC3'   )\n",
    "ax.scatter(pca_fit[93:124,0] , pca_fit[93:124,1] , label='ccRCC4'   )\n",
    "ax.scatter(pca_fit[124:128,0], pca_fit[124:128,1], label='GBM'      )\n",
    "ax.scatter(pca_fit[128:130,0], pca_fit[128:130,1], label='HurthleCC')\n",
    "ax.scatter(pca_fit[130:139,0], pca_fit[130:139,1], label='PDAC'     )\n",
    "ax.scatter(pca_fit[139:175,0], pca_fit[139:175,1], label='PRAD'     )\n",
    "ax.set_title('PCA - TRAIN_REP')\n",
    "\n",
    "### TEST_REP\n",
    "# pca_fit = um.fit_transform(test_rep.z.detach().numpy())\n",
    "# ax.scatter(pca_fit[0:10,0]   , pca_fit[0:10,1]   , label='BRCA1' )\n",
    "# ax.scatter(pca_fit[10:20,0]  , pca_fit[10:20,1]  , label='COAD'  )\n",
    "# ax.scatter(pca_fit[20:25,0]  , pca_fit[20:25,1]  , label='ccRCC3')\n",
    "# ax.scatter(pca_fit[25:33,0] , pca_fit[25:33,1] , label='ccRCC4'  )\n",
    "# ax.scatter(pca_fit[33:35,0], pca_fit[33:35,1], label='GBM'       )\n",
    "# ax.scatter(pca_fit[35:36,0], pca_fit[35:36,1], label='HurthleCC' )\n",
    "# ax.scatter(pca_fit[36:39,0], pca_fit[36:39,1], label='PDAC'      )\n",
    "# ax.scatter(pca_fit[39:49,0], pca_fit[39:49,1], label='PRAD'      )\n",
    "# ax.set_title('PCA - TEST_REP')\n",
    "\n",
    "\n",
    "### SMOTE - TEST_REP\n",
    "# ax.scatter(pca_fit[0:10,0]   , pca_fit[0:10,1]   , label='BRCA1' )\n",
    "# ax.scatter(pca_fit[10:20,0]  , pca_fit[10:20,1]  , label='COAD'  )\n",
    "# ax.scatter(pca_fit[20:30,0]  , pca_fit[20:30,1]  , label='ccRCC3')\n",
    "# ax.scatter(pca_fit[30:40,0] , pca_fit[30:40,1] , label='ccRCC4'  )\n",
    "# ax.scatter(pca_fit[40:50,0], pca_fit[40:50,1], label='GBM'       )\n",
    "# ax.scatter(pca_fit[50:222,0], pca_fit[50:60,1], label='HurthleCC')\n",
    "# ax.scatter(pca_fit[60:70,0], pca_fit[60:70,1], label='PDAC'      )\n",
    "# ax.scatter(pca_fit[70:80,0], pca_fit[70:80,1], label='PRAD'      )\n",
    "\n",
    "### SMOTE - TRAIN_REP\n",
    "# ax.scatter(pca_fit[0:37,0]   , pca_fit[0:37,1]     , label='BRCA1'    )\n",
    "# ax.scatter(pca_fit[37:74,0]  , pca_fit[37:74,1]    , label='COAD'     )\n",
    "# ax.scatter(pca_fit[74:111,0]  , pca_fit[74:111,1]  , label='ccRCC3'   )\n",
    "# ax.scatter(pca_fit[111:148,0] , pca_fit[111:148,1] , label='ccRCC4'   )\n",
    "# ax.scatter(pca_fit[148:185,0], pca_fit[148:185,1]  , label='GBM'      )\n",
    "# ax.scatter(pca_fit[185:222,0], pca_fit[185:222,1]  , label='HurthleCC')\n",
    "# ax.scatter(pca_fit[222:259,0], pca_fit[222:259,1]  , label='PDAC'     )\n",
    "# ax.scatter(pca_fit[259:296,0], pca_fit[259:296,1]  , label='PRAD'     )\n",
    "\n",
    "### SMOTE - ALL\n",
    "# ax.scatter(pca_fit[0:47,0]   , pca_fit[0:47,1]   , label='BRCA1'    )\n",
    "# ax.scatter(pca_fit[47:94,0]  , pca_fit[47:94,1]  , label='COAD'     )\n",
    "# ax.scatter(pca_fit[94:141,0]  , pca_fit[94:141,1]  , label='ccRCC3' )\n",
    "# ax.scatter(pca_fit[141:188,0] , pca_fit[141:188,1] , label='ccRCC4' )\n",
    "# ax.scatter(pca_fit[188:235,0], pca_fit[188:235,1], label='GBM'      )\n",
    "# ax.scatter(pca_fit[235:282,0], pca_fit[235:282,1], label='HurthleCC')\n",
    "# ax.scatter(pca_fit[282:329,0], pca_fit[282:329,1], label='PDAC'     )\n",
    "# ax.scatter(pca_fit[329:376,0], pca_fit[329:376,1], label='PRAD'     )\n",
    "\n",
    "\n",
    "# ax.set_xlabel(f'PC1 ({(pca.explained_variance_ratio_[0] * 100):.2f}%)', labelpad=10)\n",
    "# ax.set_ylabel(f'PC2 ({(pca.explained_variance_ratio_[1] * 100):.2f}%)')\n",
    "# ax.set_xlabel('UMAP D1')\n",
    "# ax.set_ylabel('UMAP D2')\n",
    "ax.legend(bbox_to_anchor=(1.275, 1),loc='upper right', fancybox=False, framealpha=0.0)"
   ]
  },
  {
   "cell_type": "markdown",
   "id": "9bd46e50",
   "metadata": {},
   "source": [
    "## WITH SMOTE"
   ]
  },
  {
   "cell_type": "code",
   "execution_count": null,
   "id": "83e5d552",
   "metadata": {},
   "outputs": [],
   "source": [
    "# ## Apply SMOTE so all classes are of size 47\n",
    "# sm = SMOTE(random_state=100, k_neighbors=2)\n",
    "# np_log_smote, df_lbls_smote = sm.fit_resample(df_log.to_numpy(), np.array(df_lbls))\n",
    "\n",
    "# ## Update the sample_list for data loaders later\n",
    "# complete_list = []\n",
    "# for c in cohorts:\n",
    "#     sample_list = cohorts[c]['sample_list']\n",
    "\n",
    "#     if len(sample_list) < 47:\n",
    "#         smote_sample_list = [c + '_' + str(x+1) for x in range(len(sample_list), 47)]\n",
    "#         cohorts[c]['sample_list'] += smote_sample_list\n",
    "#     complete_list += cohorts[c]['sample_list']\n",
    "        \n",
    "# df_log_smote = pd.DataFrame(np_log_smote, index=complete_list, columns=df_log.columns.to_list())"
   ]
  },
  {
   "cell_type": "code",
   "execution_count": null,
   "id": "a2b73992",
   "metadata": {},
   "outputs": [],
   "source": [
    "# sb_prior_sample = dgd_model.gmm.means_prior['dist'].sample(10000)\n",
    "# log_prob = dgd_model.gmm.means_prior['dist'].log_prob(sb_prior_sample).numpy()\n",
    "# true_prob = np.exp(log_prob)\n",
    "# plt.hist(log_prob, bins=50, density=True, edgecolor='black')\n",
    "# plt.hist(sb_prior_sample[:,0], bins=50, density=True, edgecolor='black')\n",
    "# plt.hist(sb_prior_sample[:,1], bins=50, density=True, edgecolor='black')\n",
    "# plt.hist2d(sb_prior_sample[:,0], sb_prior_sample[:,1], bins=50)\n",
    "# plt.show()"
   ]
  },
  {
   "cell_type": "code",
   "execution_count": null,
   "id": "b5792c2f",
   "metadata": {},
   "outputs": [],
   "source": [
    "from sklearn.decomposition import PCA\n",
    "# test_cohorts = cohorts.copy()\n",
    "X = df_exp.to_numpy()\n",
    "y = np.array(df_lbls)\n",
    "\n",
    "sm = SMOTE(random_state=100, k_neighbors=2)\n",
    "X_new, y_new = sm.fit_resample(X, y)\n",
    "\n",
    "\n",
    "pca = PCA(n_components=2)\n",
    "res = pca.fit_transform(X_new)\n",
    "\n",
    "sum = 0\n",
    "colors = {\n",
    "    'BRCA1': 'red',\n",
    "    'ccRCC3': 'orange',\n",
    "    'ccRCC4': 'yellow',\n",
    "    'COAD': 'green',\n",
    "    'GBM': 'blue',\n",
    "    'HurthleCC': 'purple',\n",
    "    'PDAC': 'brown',\n",
    "    'PRAD': 'black',\n",
    "}\n",
    "\n",
    "for i in np.unique(y_new).tolist():\n",
    "    plt.scatter(res[sum:sum+47, 0], res[sum:sum+47, 1], c=colors[i])\n",
    "    sum += 47\n",
    "\n",
    "plt.xlabel(pca.explained_variance_ratio_[0] * 100)\n",
    "plt.ylabel(pca.explained_variance_ratio_[1] * 100)\n",
    "plt.title(\"PCA after SMOTE\")"
   ]
  },
  {
   "cell_type": "markdown",
   "id": "08938c09",
   "metadata": {},
   "source": [
    "## E. Hyperparameter Grid Search"
   ]
  },
  {
   "cell_type": "code",
   "execution_count": null,
   "id": "530a6ded",
   "metadata": {},
   "outputs": [],
   "source": [
    "import wandb\n",
    "\n",
    "def grid_search(config=None):\n",
    "    with wandb.init(config=config):\n",
    "        c = wandb.config\n",
    "\n",
    "        dgd_cand = model.MetaboDGD(\n",
    "            latent_dim=c.latent_dim,\n",
    "            output_dim=df_log.shape[1],\n",
    "            dec_hidden_layers_dim=[500, 1500],\n",
    "            dec_output_prediction_type='mean',\n",
    "            dec_output_activation_type='softplus',\n",
    "            n_comp=8,\n",
    "            cm_type='diagonal',\n",
    "            softball_radius=c.softball_radius,\n",
    "            softball_sharpness=c.softball_sharpness,\n",
    "            gaussian_mean=c.gaussian_mean,\n",
    "            gaussian_stddev=c.gaussian_stddev,\n",
    "            dirichlet_alpha=c.dirichlet_alpha\n",
    "        )\n",
    "\n",
    "        dgd_cand, train_rep, test_rep, history, cm = train.train_dgd(\n",
    "            dgd_model=dgd_cand,\n",
    "            train_loader=train_loader,\n",
    "            validation_loader=test_loader,\n",
    "            n_epochs=250,\n",
    "            lr_schedule_epochs=None,\n",
    "            lr_schedule=[1e-4, 1e-3, 1e-2], # dec, rep, gmm\n",
    "            optim_betas=[0.5, 0.7],\n",
    "            wd=1e-5,\n",
    "        )\n",
    "\n",
    "        wandb.log({\"validation_reconstruction_loss\": history.iloc[-1]['val_loss'],\n",
    "                   \"cluster_acc\": history.iloc[-1]['cluster_acc']})\n",
    "\n",
    "\n",
    "def execute_grid_search():\n",
    "    sweep_config = {\n",
    "        'method': 'grid',\n",
    "        'metric': {\n",
    "            'name': 'cluster_acc',\n",
    "            'goal': 'maximize'\n",
    "        },\n",
    "        'parameters': {\n",
    "            'latent_dim': {\n",
    "                'values': [20, 30],\n",
    "            },\n",
    "            'dirichlet_alpha': {\n",
    "                'values': [0.5, 1.0],\n",
    "            },\n",
    "            'softball_radius': {\n",
    "                'values': [3, 5, 7],\n",
    "            },\n",
    "            'softball_sharpness': {\n",
    "                'values': [5, 10],\n",
    "            },\n",
    "            'gaussian_mean': {\n",
    "                'values': [-6.0, -5.0],\n",
    "            },\n",
    "            'gaussian_stddev': {\n",
    "                'values': [0.01, 0.25, 0.50]\n",
    "            }\n",
    "        }\n",
    "    }\n",
    "\n",
    "    sweep_id = wandb.sweep(\n",
    "        sweep=sweep_config,\n",
    "        project=\"my-first-project\"\n",
    "    )\n",
    "\n",
    "    wandb.agent(\n",
    "        sweep_id=sweep_id,\n",
    "        function=grid_search\n",
    "    )\n",
    "\n",
    "\n",
    "# execute_grid_search()"
   ]
  }
 ],
 "metadata": {
  "kernelspec": {
   "display_name": "metabodgd",
   "language": "python",
   "name": "python3"
  },
  "language_info": {
   "codemirror_mode": {
    "name": "ipython",
    "version": 3
   },
   "file_extension": ".py",
   "mimetype": "text/x-python",
   "name": "python",
   "nbconvert_exporter": "python",
   "pygments_lexer": "ipython3",
   "version": "3.12.9"
  }
 },
 "nbformat": 4,
 "nbformat_minor": 5
}
