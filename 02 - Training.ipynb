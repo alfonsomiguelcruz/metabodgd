{
 "cells": [
  {
   "cell_type": "markdown",
   "id": "561451b2",
   "metadata": {},
   "source": [
    "# 02 - Training"
   ]
  },
  {
   "cell_type": "markdown",
   "id": "e311c165",
   "metadata": {},
   "source": [
    "## A - Libraries"
   ]
  },
  {
   "cell_type": "code",
   "execution_count": null,
   "id": "4cba4394",
   "metadata": {},
   "outputs": [],
   "source": [
    "import pickle\n",
    "import pandas as pd\n",
    "import numpy as np\n",
    "\n",
    "from metaboDGD.util import data, train\n",
    "from metaboDGD.src import model\n",
    "import matplotlib.pyplot as plt\n",
    "import torch\n",
    "import torch.distributions as D"
   ]
  },
  {
   "cell_type": "markdown",
   "id": "0dac99ca",
   "metadata": {},
   "source": [
    "## B - Retrieve Dataframe and Cohorts"
   ]
  },
  {
   "cell_type": "code",
   "execution_count": null,
   "id": "b8a58b9a",
   "metadata": {},
   "outputs": [],
   "source": [
    "dir = 'outputs/'\n",
    "df_fname = 'CombinedDataset_CAMP.csv'\n",
    "df_exp_fname = 'Exponent_CombinedDataset_CAMP.csv'\n",
    "cohorts_fname = 'cohorts.pkl'"
   ]
  },
  {
   "cell_type": "code",
   "execution_count": null,
   "id": "11d6560d",
   "metadata": {},
   "outputs": [],
   "source": [
    "df = pd.read_csv(dir + df_fname)\n",
    "df.set_index('Unnamed: 0', inplace=True)\n",
    "df.index.name = None\n",
    "\n",
    "df_exp = pd.read_csv(dir + df_exp_fname)\n",
    "df_exp.set_index('Unnamed: 0', inplace=True)\n",
    "df_exp.index.name = None\n",
    "\n",
    "f = open(dir + cohorts_fname, 'rb')\n",
    "cohorts = pickle.load(f)"
   ]
  },
  {
   "cell_type": "markdown",
   "id": "17220cca",
   "metadata": {},
   "source": [
    "## C - Preparing TrainLoader and DGD Model"
   ]
  },
  {
   "cell_type": "code",
   "execution_count": null,
   "id": "b5b6eb70",
   "metadata": {},
   "outputs": [],
   "source": [
    "train_dict = {}\n",
    "test_dict  = {}\n",
    "\n",
    "train_lbls = []\n",
    "test_lbls  = []\n",
    "\n",
    "plot_counts = {}"
   ]
  },
  {
   "cell_type": "code",
   "execution_count": null,
   "id": "611ec14d",
   "metadata": {},
   "outputs": [],
   "source": [
    "train_loader, test_loader = data.create_dataloaders(\n",
    "    cohorts=cohorts,\n",
    "    df=df_exp,\n",
    "    batch_size=64\n",
    ")"
   ]
  },
  {
   "cell_type": "code",
   "execution_count": null,
   "id": "c9a45950",
   "metadata": {},
   "outputs": [],
   "source": [
    "dgd_model = model.MetaboDGD(\n",
    "    latent_dim=10,\n",
    "    output_dim=1915,\n",
    "    dec_hidden_layers_dim=[500, 1000, 1500],\n",
    "    dec_output_prediction_type='mean',\n",
    "    dec_output_activation_type='softplus',\n",
    "    n_comp=8,\n",
    "    cm_type='diagonal'\n",
    ")"
   ]
  },
  {
   "cell_type": "code",
   "execution_count": null,
   "id": "e0575834",
   "metadata": {},
   "outputs": [],
   "source": [
    "dgd_model, train_rep, test_rep, history = train.train_dgd(\n",
    "    dgd_model=dgd_model,\n",
    "    train_loader=train_loader,\n",
    "    validation_loader=test_loader,\n",
    "    n_epochs=100,\n",
    "    lr_schedule_epochs=None,\n",
    "    lr_schedule=[1e-4, 1e-3, 1e-2],\n",
    "    optim_betas=[0.5, 0.7],\n",
    "    wd=1e-4,\n",
    ")"
   ]
  },
  {
   "cell_type": "code",
   "execution_count": null,
   "id": "2ee745dd",
   "metadata": {},
   "outputs": [],
   "source": [
    "history"
   ]
  },
  {
   "cell_type": "code",
   "execution_count": null,
   "id": "ae764ead",
   "metadata": {},
   "outputs": [],
   "source": [
    "plt.plot(history['epoch'], history['train_loss'], label='train')\n",
    "plt.plot(history['epoch'], history['val_loss']  , label='validation')\n",
    "plt.ylabel(\"Total Loss\")\n",
    "plt.xlabel(\"Epoch\")\n",
    "plt.legend()\n",
    "plt.title(\"Training Loss Curve - Total Loss\")"
   ]
  },
  {
   "cell_type": "code",
   "execution_count": null,
   "id": "059b04fa",
   "metadata": {},
   "outputs": [],
   "source": [
    "plt.plot(history['epoch'], history['train_recon_loss'], label='train')\n",
    "plt.plot(history['epoch'], history['val_recon_loss']  , label='validation')\n",
    "plt.ylabel(\"Total Loss\")\n",
    "plt.xlabel(\"Epoch\")\n",
    "plt.legend()\n",
    "plt.title(\"Training Loss Curve - Reconstruction Loss\")"
   ]
  },
  {
   "cell_type": "code",
   "execution_count": null,
   "id": "785f8291",
   "metadata": {},
   "outputs": [],
   "source": [
    "plt.plot(history['epoch'], history['train_dist_loss'], label='train')\n",
    "plt.plot(history['epoch'], history['val_dist_loss']  , label='validation')\n",
    "plt.ylabel(\"Total Loss\")\n",
    "plt.xlabel(\"Epoch\")\n",
    "plt.legend()\n",
    "plt.title(\"Training Loss Curve - GMM Distribution Loss\")"
   ]
  }
 ],
 "metadata": {
  "kernelspec": {
   "display_name": "metabodgd",
   "language": "python",
   "name": "python3"
  },
  "language_info": {
   "codemirror_mode": {
    "name": "ipython",
    "version": 3
   },
   "file_extension": ".py",
   "mimetype": "text/x-python",
   "name": "python",
   "nbconvert_exporter": "python",
   "pygments_lexer": "ipython3",
   "version": "3.12.9"
  }
 },
 "nbformat": 4,
 "nbformat_minor": 5
}
