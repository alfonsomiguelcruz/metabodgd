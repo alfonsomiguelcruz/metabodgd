{
 "cells": [
  {
   "cell_type": "markdown",
   "id": "6ac46950",
   "metadata": {},
   "source": [
    "# 01 - Data Preprocessing"
   ]
  },
  {
   "cell_type": "markdown",
   "id": "0a734dd5",
   "metadata": {},
   "source": [
    "## I. Preliminaries"
   ]
  },
  {
   "cell_type": "markdown",
   "id": "afabea41",
   "metadata": {},
   "source": [
    "Import the libraries and functions for data preprocessing."
   ]
  },
  {
   "cell_type": "code",
   "execution_count": 1,
   "id": "e5831400",
   "metadata": {},
   "outputs": [],
   "source": [
    "import os\n",
    "import pickle\n",
    "import pandas as pd\n",
    "import numpy as np\n",
    "from metaboDGD.util import data"
   ]
  },
  {
   "cell_type": "markdown",
   "id": "9dbd9369",
   "metadata": {},
   "source": [
    "Create an `outputs` directory for storing the output files."
   ]
  },
  {
   "cell_type": "code",
   "execution_count": 2,
   "id": "eccea828",
   "metadata": {},
   "outputs": [],
   "source": [
    "dir = 'sept_outputs/'\n",
    "if not os.path.exists(dir):\n",
    "    os.makedirs(dir)"
   ]
  },
  {
   "cell_type": "markdown",
   "id": "13b7d12d",
   "metadata": {},
   "source": [
    "## II. Retrieving metabolite abundance data"
   ]
  },
  {
   "cell_type": "markdown",
   "id": "18588b94",
   "metadata": {},
   "source": [
    "### A. Get abundance data from adjacent normal tissue samples"
   ]
  },
  {
   "cell_type": "code",
   "execution_count": 3,
   "id": "212924a7",
   "metadata": {},
   "outputs": [],
   "source": [
    "# Combine the metabolite abundance datasets to one dataframe\n",
    "df, cohorts = data.combine_cohort_datasets('Normal')\n",
    "\n",
    "# Convert dataframe to a numpy array of shape (no. of samples, no. of metabolites)\n",
    "np_df = df.T.to_numpy()[:, :-1].astype(np.float64)"
   ]
  },
  {
   "cell_type": "code",
   "execution_count": 4,
   "id": "440c5bc3",
   "metadata": {},
   "outputs": [],
   "source": [
    "# Save dataframe as a CSV file\n",
    "df_fname = 'CombinedDataset_CAMP_Normal.csv'\n",
    "df.to_csv(dir + df_fname)\n",
    "\n",
    "# Save cohorts dictionary as a pickle file\n",
    "ch_fname = 'cohorts_Normal.pkl'\n",
    "f = open(dir + ch_fname, 'wb')\n",
    "pickle.dump(cohorts, f)\n",
    "f.close()"
   ]
  },
  {
   "cell_type": "code",
   "execution_count": 5,
   "id": "cbf78ff5",
   "metadata": {},
   "outputs": [],
   "source": [
    "metabolite_list = df.index.to_list()\n",
    "f = open('metabolite_list.txt', 'w')\n",
    "for m in metabolite_list:\n",
    "    f.write(f'{m}\\n')\n",
    "\n",
    "f.close()"
   ]
  },
  {
   "cell_type": "code",
   "execution_count": 6,
   "id": "3c484b75",
   "metadata": {},
   "outputs": [],
   "source": [
    "normal_list = df.columns.to_list()\n",
    "f = open('normal_sample_list.txt', 'w')\n",
    "for m in normal_list:\n",
    "    f.write(f'{m}\\n')\n",
    "\n",
    "f.close()"
   ]
  },
  {
   "cell_type": "markdown",
   "id": "0a8ce392",
   "metadata": {},
   "source": [
    "### B. Get abundance data from tumor tissue samples"
   ]
  },
  {
   "cell_type": "code",
   "execution_count": 7,
   "id": "f10e7002",
   "metadata": {},
   "outputs": [],
   "source": [
    "# Combine the metabolite abundance datasets to one dataframe\n",
    "df_tumor, cohorts_tumor = data.combine_cohort_datasets(['Disease', 'Tumor'])\n",
    "\n",
    "# Drop columns not present in the list of metabolites in the dataframe\n",
    "df_tumor = df_tumor.drop(index=list(set(df_tumor.index.to_list()) - set(df.index.to_list())))\n",
    "\n",
    "# Get remaining columns in dataframe not present in df_tumor\n",
    "in_df_not_in_tumor = list(set(df.index.to_list()) - set(df_tumor.index.to_list()))\n",
    "\n",
    "# Union and initialize to zero\n",
    "df_tumor = df_tumor.reindex(df_tumor.index.union(in_df_not_in_tumor))\n",
    "df_tumor.loc[in_df_not_in_tumor] = 0.0"
   ]
  },
  {
   "cell_type": "code",
   "execution_count": 8,
   "id": "3654954a",
   "metadata": {},
   "outputs": [],
   "source": [
    "# Save dataframe as a CSV file\n",
    "df_fname = 'CombinedDataset_CAMP_Tumor.csv'\n",
    "df_tumor.to_csv(dir + df_fname)\n",
    "\n",
    "# Save cohorts dictionary as a pickle file\n",
    "ch_fname = 'cohorts_Tumor.pkl'\n",
    "f = open(dir + ch_fname, 'wb')\n",
    "pickle.dump(cohorts_tumor, f)\n",
    "f.close()"
   ]
  },
  {
   "cell_type": "code",
   "execution_count": 9,
   "id": "02743b46",
   "metadata": {},
   "outputs": [],
   "source": [
    "tumor_list = df_tumor.columns.to_list()\n",
    "f = open('disease_sample_list.txt', 'w')\n",
    "for m in tumor_list:\n",
    "    f.write(f'{m}\\n')\n",
    "\n",
    "f.close()"
   ]
  },
  {
   "cell_type": "markdown",
   "id": "2f3bb697",
   "metadata": {},
   "source": [
    "## III. - MarkerDB"
   ]
  },
  {
   "cell_type": "code",
   "execution_count": null,
   "id": "1bce40ef",
   "metadata": {},
   "outputs": [],
   "source": [
    "diag_df = pd.read_csv('all_chemicals.tsv', delimiter='\\t', encoding='latin-1')\n",
    "# diag_df = pd.read_csv('all_diagnostic_chemicals.tsv', delimiter='\\t', encoding='latin-1')\n",
    "cancer_df = diag_df[diag_df['conditions'].str.contains('cancer', case=False, na=False)]"
   ]
  },
  {
   "cell_type": "code",
   "execution_count": null,
   "id": "d6e9987a",
   "metadata": {},
   "outputs": [],
   "source": [
    "cancer_df['conditions'].value_counts()"
   ]
  },
  {
   "cell_type": "code",
   "execution_count": null,
   "id": "6d82f349",
   "metadata": {},
   "outputs": [],
   "source": [
    "cancer_df.loc[cancer_df['conditions'] == 'Prostate Cancer']"
   ]
  },
  {
   "cell_type": "markdown",
   "id": "bb809674",
   "metadata": {},
   "source": [
    "## ???"
   ]
  },
  {
   "cell_type": "code",
   "execution_count": null,
   "id": "7b19cf0e",
   "metadata": {},
   "outputs": [],
   "source": [
    "nz_percentage = 1 - (np.count_nonzero(np_normal_log, axis=0) / np_normal_log.shape[0])\n",
    "print(np.min(nz_percentage), np.max(nz_percentage))\n",
    "plt.hist(nz_percentage, bins=100)\n",
    "plt.xlabel('Fraction of Zero values')\n",
    "plt.title('Frequency of Zero Abundance Values')\n",
    "plt.show()"
   ]
  },
  {
   "cell_type": "code",
   "execution_count": null,
   "id": "57a5f909",
   "metadata": {},
   "outputs": [],
   "source": [
    "# idxs = np.r_[257:654, 843:1153]\n",
    "# np_normal_log[idxs].T.shape\n",
    "\n",
    "fig, ax = plt.subplots(figsize=(4, 12))\n",
    "img = ax.imshow(np_normal_log.T, aspect='auto')\n",
    "cbar = fig.colorbar(img, ax=ax)\n",
    "cbar.set_label(\"Log10 Abundance\")\n",
    "ax.set_xlabel('Samples')\n",
    "ax.set_ylabel('Metabolites')\n",
    "plt.show()"
   ]
  }
 ],
 "metadata": {
  "kernelspec": {
   "display_name": "metabodgd",
   "language": "python",
   "name": "python3"
  },
  "language_info": {
   "codemirror_mode": {
    "name": "ipython",
    "version": 3
   },
   "file_extension": ".py",
   "mimetype": "text/x-python",
   "name": "python",
   "nbconvert_exporter": "python",
   "pygments_lexer": "ipython3",
   "version": "3.12.9"
  }
 },
 "nbformat": 4,
 "nbformat_minor": 5
}
