{
 "cells": [
  {
   "cell_type": "markdown",
   "id": "19b64547",
   "metadata": {},
   "source": [
    "# 04 - Model Evaluation (Clustering)"
   ]
  },
  {
   "cell_type": "markdown",
   "id": "fb83e4a3",
   "metadata": {},
   "source": [
    "## I. Preliminaries"
   ]
  },
  {
   "cell_type": "markdown",
   "id": "3dd75f4e",
   "metadata": {},
   "source": [
    "Import the libraries and functions for model evaluation."
   ]
  },
  {
   "cell_type": "code",
   "execution_count": null,
   "id": "d1fb3c8b",
   "metadata": {},
   "outputs": [],
   "source": [
    "# Libraries Here"
   ]
  },
  {
   "cell_type": "markdown",
   "id": "a42e09dd",
   "metadata": {},
   "source": [
    "Import the trained DGD model for evaluation."
   ]
  },
  {
   "cell_type": "code",
   "execution_count": null,
   "id": "cfa33529",
   "metadata": {},
   "outputs": [],
   "source": [
    "dgd_final = model.MetaboDGD(\n",
    "    latent_dim=50,\n",
    "    output_dim=np_normal_log.shape[1],\n",
    "    dec_hidden_layers_dim=[500, 1500],\n",
    "    dec_output_prediction_type='mean',\n",
    "    dec_output_activation_type='softplus',\n",
    "    n_comp=8,\n",
    "    cm_type='diagonal',\n",
    "    gaussian_stddev=0.5\n",
    ")\n",
    "\n",
    "dgd_final.dec.load_state_dict(torch.load('torch_outputs/torch_outputs_dec.pt'))\n",
    "dgd_final.gmm.load_state_dict(torch.load('torch_outputs/torch_outputs_gmm.pt'))\n",
    "# dgd_final.dec.load_state_dict(torch.load('98_85_acc/torch_outputs_dec.pt'))\n",
    "# dgd_final.gmm.load_state_dict(torch.load('98_85_acc/torch_outputs_gmm.pt'))"
   ]
  },
  {
   "cell_type": "markdown",
   "id": "897890ae",
   "metadata": {},
   "source": [
    "Import the learned representations of the training samples."
   ]
  },
  {
   "cell_type": "code",
   "execution_count": null,
   "id": "f3f3e0ad",
   "metadata": {},
   "outputs": [],
   "source": [
    "from metaboDGD.src.latent import RepresentationLayer\n",
    "train_rep_final = RepresentationLayer(values=torch.zeros(size=(np_normal_log.shape[0], dgd_final.gmm.dim)))\n",
    "train_rep_final.load_state_dict(torch.load('torch_outputs/torch_outputs_train_rep.pt'))\n",
    "# train_rep_final.load_state_dict(torch.load('98_85_acc/torch_outputs_train_rep.pt'))"
   ]
  },
  {
   "cell_type": "markdown",
   "id": "63addeab",
   "metadata": {},
   "source": [
    "## II. Model Evaluation - Figure X"
   ]
  },
  {
   "cell_type": "code",
   "execution_count": null,
   "id": "6f75b5c3",
   "metadata": {},
   "outputs": [],
   "source": [
    "from sklearn.preprocessing import LabelEncoder\n",
    "from sklearn.metrics import adjusted_rand_score, confusion_matrix\n",
    "from scipy.optimize import linear_sum_assignment\n",
    "\n",
    "le = LabelEncoder()\n",
    "true_labels = le.fit_transform(train_loader.dataset.get_labels())\n",
    "clustering  = torch.exp(dgd_model.gmm.get_log_prob_comp(train_rep.z.detach()))\n",
    "pred_labels = torch.max(clustering, dim=-1).indices.cpu().detach().numpy()\n",
    "cm_test = confusion_matrix(true_labels, pred_labels)\n",
    "cm_test\n",
    "\n",
    "idxs = linear_sum_assignment(-cm_test + np.max(cm_test))\n",
    "cm_test2 = cm_test[:, idxs[1]]\n",
    "# print(true_labels)\n",
    "# print(pred_labels)\n",
    "\n",
    "# print(cm_test)\n",
    "\n",
    "# adjusted_rand_score(true_labels, pred_labels)"
   ]
  },
  {
   "cell_type": "code",
   "execution_count": null,
   "id": "2dd8966b",
   "metadata": {},
   "outputs": [],
   "source": [
    "cm_norm = np.round(np.nan_to_num(cm / np.sum(cm, axis=0) * 100), decimals=1)\n",
    "# np.sum(cm, axis=0)\n",
    "\n",
    "class_lbls = list(cohorts.keys())\n",
    "# sample_num_lbls = [len(cohorts[c]['sample_list']) for c in cohorts.keys()]\n",
    "# sample_num_lbls = [37,37,19,31,4,2,9,36]\n",
    "sample_num_lbls = [47, 47, 24, 39, 6, 3, 12, 46]\n",
    "# sample_num_lbls = [47, 94, 118, 157, 169, 215]\n",
    "# plt.rcParams[\"font.family\"] = 'sans-serif'\n",
    "\n",
    "\n",
    "zr_mask = np.where(cm_norm > 0, False, True)\n",
    "\n",
    "fig, ax = plt.subplots(figsize=(8,6))\n",
    "\n",
    "sns.heatmap(cm_norm, cmap='Blues',\n",
    "            annot=True,\n",
    "            fmt='g',\n",
    "            xticklabels=np.sum(cm, axis=0),\n",
    "            yticklabels=class_lbls,\n",
    "            linewidths=0.1,\n",
    "            mask=zr_mask,\n",
    "            linecolor='black',\n",
    "            ax=ax,\n",
    "            cbar_kws={\n",
    "                'pad': 0.15,\n",
    "                'shrink': 0.375,\n",
    "                'aspect': 5,\n",
    "                'anchor': (0.0, 1.0)\n",
    "            })\n",
    "\n",
    "ax_y = ax.twinx()\n",
    "ax.set_xticklabels(ax.get_xticklabels(), rotation=0)\n",
    "ax.set_yticklabels(ax.get_yticklabels(), rotation=0)\n",
    "ax.tick_params(axis='both', length=0)\n",
    "\n",
    "ax_y.set_yticks(ax.get_yticks())\n",
    "ax_y.set_ylim(ax.get_ylim())\n",
    "ax_y.set_yticklabels(sample_num_lbls)\n",
    "ax_y.tick_params(axis='y', length=0)\n",
    "\n",
    "ax.set_xlabel('Samples per component', fontsize=14, labelpad=15)\n",
    "ax_y.set_ylabel('Samples per tissue' , fontsize=14, labelpad=30, rotation=270)\n",
    "\n",
    "ax.tick_params(  axis='y', direction='out', pad=5)\n",
    "ax_y.tick_params(axis='y', direction='out', pad=5)\n",
    "\n",
    "ax.set_title('Gaussian Components', pad=15, fontsize=14)\n",
    "\n",
    "# fig.subplots_adjust(bottom=0.5)\n",
    "plt.tight_layout()"
   ]
  },
  {
   "cell_type": "markdown",
   "id": "486ba9b2",
   "metadata": {},
   "source": [
    "## III. Model Evaluation - Figure Y"
   ]
  },
  {
   "cell_type": "markdown",
   "id": "71828b2c",
   "metadata": {},
   "source": [
    "PCA - Training Reps"
   ]
  },
  {
   "cell_type": "code",
   "execution_count": null,
   "id": "5fae0534",
   "metadata": {},
   "outputs": [],
   "source": [
    "from sklearn.decomposition import PCA\n",
    "from matplotlib.patches import Ellipse\n",
    "# import umap\n",
    "means_and_reps = np.vstack((train_rep_final.z.detach().numpy(),dgd_final.gmm.means.detach().numpy()))\n",
    "# means_and_reps = np.vstack((train_rep_final.z.detach().numpy(),dgd_final.gmm.means.detach().numpy()))\n",
    "# pca = umap.UMAP(n_neighbors=2)\n",
    "pca = PCA(n_components=2)\n",
    "pca_fit = pca.fit_transform(means_and_reps)\n",
    "# pca_fit        = pca.fit_transform(train_rep_final.z.detach().numpy())\n",
    "# pca_fit_means  = pca.transform(dgd_model.gmm.means.detach().numpy())\n",
    "fig, ax = plt.subplots(figsize=(6,4))\n",
    "# ax.scatter(pca_fit[0:37,0]   , pca_fit[0:37,1]   , label='BRCA1'    )\n",
    "# ax.scatter(pca_fit[37:74,0]  , pca_fit[37:74,1]  , label='ccRCC3'     )\n",
    "# ax.scatter(pca_fit[74:93,0]  , pca_fit[74:93,1]  , label='ccRCC4'   )\n",
    "# ax.scatter(pca_fit[93:124,0] , pca_fit[93:124,1] , label='COAD'   )\n",
    "# ax.scatter(pca_fit[124:128,0], pca_fit[124:128,1], label='GBM'      )\n",
    "# ax.scatter(pca_fit[128:130,0], pca_fit[128:130,1], label='HurthleCC')\n",
    "# ax.scatter(pca_fit[130:139,0], pca_fit[130:139,1], label='PDAC'     )\n",
    "# ax.scatter(pca_fit[139:175,0], pca_fit[139:175,1], label='PRAD'     )\n",
    "\n",
    "ax.scatter(pca_fit[0:47,0]   , pca_fit[0:47,1]   ,  label='Breast (BRCA1)'    )\n",
    "ax.scatter(pca_fit[47:94,0]  , pca_fit[47:94,1]  ,  label='Kidney (ccRCC3)'     )\n",
    "ax.scatter(pca_fit[94:118,0]  , pca_fit[94:118,1],  label='Kidney (ccRCC4)' )\n",
    "ax.scatter(pca_fit[118:157,0] , pca_fit[118:157,1], label='Colon (COAD)' )\n",
    "ax.scatter(pca_fit[157:163,0], pca_fit[157:163,1],  label='Brain (GBM)'      )\n",
    "ax.scatter(pca_fit[163:166,0], pca_fit[163:166,1],  label='Thyroid (HurthleCC)')\n",
    "ax.scatter(pca_fit[166:178,0], pca_fit[166:178,1],  label='Pancreas (PDAC)'     )\n",
    "ax.scatter(pca_fit[178:224,0], pca_fit[178:224,1],  label='Prostate (PRAD)'     )\n",
    "\n",
    "# idx_lcgc = np.r_[0:47, 157:163, 166:178, 178:224]\n",
    "# idx_lc = np.r_[47:94, 94:118, 163:166]\n",
    "\n",
    "# ax.scatter(pca_fit[idx_lcgc,0]   , pca_fit[idx_lcgc,1]   ,  label='LC-MS and GC-MS'    )\n",
    "# ax.scatter(pca_fit[idx_lc,0]  , pca_fit[idx_lc,1]  ,  label='LC-MS'     )\n",
    "# ax.scatter(pca_fit[118:157,0] , pca_fit[118:157,1], label='CE-TOFMS' )\n",
    "# ax.scatter(pca_fit[94:118,0]  , pca_fit[94:118,1],  label='LC-MS' )\n",
    "# ax.scatter(pca_fit[157:163,0], pca_fit[157:163,1],  label='LC-MS and GC-MS'      )\n",
    "# ax.scatter(pca_fit[163:166,0], pca_fit[163:166,1],  label='LC-MS')\n",
    "# ax.scatter(pca_fit[166:178,0], pca_fit[166:178,1],  label='LC-MS and GC-MS'     )\n",
    "# ax.scatter(pca_fit[178:224,0], pca_fit[178:224,1],  label='LC-MS and GC-MS'     )\n",
    "\n",
    "# ax.annotate('BRCA1', xy=(pca_fit[0,0], pca_fit[0, 1])        , ha='center', textcoords='offset points', xytext=(0,5))\n",
    "# ax.annotate('ccRCC3', xy=(pca_fit[47,0], pca_fit[47, 1])     , ha='center', textcoords='offset points', xytext=(0,5))\n",
    "# ax.annotate('ccRCC4', xy=(pca_fit[94,0], pca_fit[94, 1])     , ha='center', textcoords='offset points', xytext=(0,5))\n",
    "# ax.annotate('COAD', xy=(pca_fit[118,0], pca_fit[118, 1])     , ha='center', textcoords='offset points', xytext=(0,5))\n",
    "# ax.annotate('GBM', xy=(pca_fit[157,0], pca_fit[157, 1])      , ha='center', textcoords='offset points', xytext=(0,5))\n",
    "# ax.annotate('HurthleCC', xy=(pca_fit[163,0], pca_fit[163, 1]), ha='center', textcoords='offset points', xytext=(0,5))\n",
    "# ax.annotate('PDAC', xy=(pca_fit[166,0], pca_fit[166, 1])     , ha='center', textcoords='offset points', xytext=(0,5))\n",
    "# ax.annotate('PRAD', xy=(pca_fit[178,0], pca_fit[178, 1])     , ha='center', textcoords='offset points', xytext=(0,5))\n",
    "\n",
    "# ax.scatter(pca_fit[175:,0], pca_fit[175:,1], label='GMM Means', c='black', marker='*')\n",
    "# ax.scatter(pca_fit[224:,0], pca_fit[224:,1], label='GMM Means', c='black', marker='*',)\n",
    "# ax.scatter(pca_fit[0:19,0] , pca_fit[0:19,1] , label='Kidney 4'   )\n",
    "# ax.scatter(pca_fit[19:28,0], pca_fit[19:28,1], label='Pancreas'     )\n",
    "# ax.scatter(pca_fit[28:64,0], pca_fit[28:64,1], label='Prostate'     )\n",
    "# ax.scatter(pca_fit[64:,0], pca_fit[64:,1], label='GMM Means', c='black', marker='*')\n",
    "\n",
    "P = pca.components_\n",
    "for x in range(0, dgd_final.gmm.n_comp):\n",
    "    cov_2d = np.diag(torch.exp(dgd_final.gmm.log_var).detach().numpy()[x])\n",
    "    # print(cov_2d)\n",
    "    mean_2d = P @ (dgd_final.gmm.means.detach().numpy()[x] - pca.mean_)\n",
    "    # mean_2d = pca_fit[175+x]\n",
    "    cov_2d_projected = P @ cov_2d @ P.T\n",
    "\n",
    "    vals, vecs = np.linalg.eigh(cov_2d_projected)\n",
    "    order = vals.argsort()[::-1]\n",
    "    vals, vecs = vals[order], vecs[:, order]\n",
    "    angle = np.degrees(np.arctan2(vecs[1, 0], vecs[0, 0]))\n",
    "    \n",
    "    std = 1.0\n",
    "    w, h = 2 * std * np.sqrt(vals)\n",
    "    ellipse = Ellipse(xy=mean_2d, width=w, height=h, angle=angle,\n",
    "                    facecolor='black', alpha=0.1)\n",
    "    ax.add_patch(ellipse)\n",
    "\n",
    "    std = 2.0\n",
    "    w, h = 2 * std * np.sqrt(vals)\n",
    "    ellipse_2 = Ellipse(xy=mean_2d, width=w, height=h, angle=angle,\n",
    "                    facecolor='black', alpha=0.1)\n",
    "    ax.add_patch(ellipse_2)\n",
    "\n",
    "\n",
    "# ax.scatter(pca_fit_means[:,0], pca_fit_means[:,1], label='Means', c='black'     )\n",
    "ax.set_title('Analytical Platforms of All Cohorts')\n",
    "\n",
    "ax.set_xlabel(f'PC1 ({(pca.explained_variance_ratio_[0] * 100):.2f}%)', labelpad=10)\n",
    "ax.set_ylabel(f'PC2 ({(pca.explained_variance_ratio_[1] * 100):.2f}%)')\n",
    "# ax.set_xlabel('UMAP D1')\n",
    "# ax.set_ylabel('UMAP D2')\n",
    "ax.legend(bbox_to_anchor=(1.40, 1.025),loc='upper right', fancybox=False, framealpha=0.0, title='Analytical Platforms', alignment='left')"
   ]
  },
  {
   "cell_type": "markdown",
   "id": "9e333afe",
   "metadata": {},
   "source": [
    "## IV. Model Evaluation - Figure Z"
   ]
  },
  {
   "cell_type": "markdown",
   "id": "15dfcf14",
   "metadata": {},
   "source": [
    "PCA - Tumor Reps"
   ]
  },
  {
   "cell_type": "code",
   "execution_count": null,
   "id": "83740921",
   "metadata": {},
   "outputs": [],
   "source": [
    "pca_tumor = PCA(n_components=2)\n",
    "means_and_tumor_reps = np.vstack((tumor_rep_final.detach(), dgd_model.gmm.means.detach().numpy()))\n",
    "pca_fit = pca_tumor.fit_transform(means_and_tumor_reps)\n",
    "\n",
    "fig, ax = plt.subplots(figsize=(6,4))\n",
    "ax.scatter(pca_fit[0:61,0]  , pca_fit[0:61,1]  ,     label='Breast (BRCA1)'    )\n",
    "ax.scatter(pca_fit[61:128,0]  , pca_fit[61:128,1]  , label='Kidney (ccRCC3)'     )\n",
    "ax.scatter(pca_fit[128:180,0]  , pca_fit[128:180,1], label='Kidney (ccRCC4)' )\n",
    "ax.scatter(pca_fit[180:217,0] , pca_fit[180:217,1] , label='Colon (COAD)' )\n",
    "ax.scatter(pca_fit[217:291,0], pca_fit[217:291,1],   label='Brain (GBM)'      )\n",
    "ax.scatter(pca_fit[291:319,0], pca_fit[291:319,1],   label='Thyroid (HurthleCC)')\n",
    "ax.scatter(pca_fit[319:346,0], pca_fit[319:346,1],   label='Pancreas (PDAC)'     )\n",
    "ax.scatter(pca_fit[346:437,0], pca_fit[346:437,1],   label='Prostate (PRAD)'     )\n",
    "ax.scatter(pca_fit[437:,0], pca_fit[437:,1], label='GMM Means', c='black', marker='*')\n",
    "ax.set_title('Tumor Representations and Means in Latent Space')\n",
    "\n",
    "\n",
    "P = pca_tumor.components_\n",
    "for x in range(0, dgd_model.gmm.n_comp):\n",
    "    cov_2d = np.diag(torch.exp(dgd_model.gmm.log_var).detach().numpy()[x])\n",
    "    # print(cov_2d)\n",
    "    mean_2d = P @ (dgd_model.gmm.means.detach().numpy()[x] - pca_tumor.mean_)\n",
    "    # mean_2d = pca_fit[175+x]\n",
    "    cov_2d_projected = P @ cov_2d @ P.T\n",
    "\n",
    "    vals, vecs = np.linalg.eigh(cov_2d_projected)\n",
    "    order = vals.argsort()[::-1]\n",
    "    vals, vecs = vals[order], vecs[:, order]\n",
    "    angle = np.degrees(np.arctan2(vecs[1, 0], vecs[0, 0]))\n",
    "    \n",
    "    std = 1.0\n",
    "    w, h = 2 * std * np.sqrt(vals)\n",
    "    ellipse = Ellipse(xy=mean_2d, width=w, height=h, angle=angle,\n",
    "                      facecolor='black', alpha=0.1)\n",
    "    ax.add_patch(ellipse)\n",
    "\n",
    "    std = 2.0\n",
    "    w, h = 2 * std * np.sqrt(vals)\n",
    "    ellipse_2 = Ellipse(xy=mean_2d, width=w, height=h, angle=angle,\n",
    "                      facecolor='black', alpha=0.1)\n",
    "    ax.add_patch(ellipse_2)\n",
    "\n",
    "ax.set_xlabel(f'PC1 ({(pca_tumor.explained_variance_ratio_[0] * 100):.2f}%)', labelpad=10)\n",
    "ax.set_ylabel(f'PC2 ({(pca_tumor.explained_variance_ratio_[1] * 100):.2f}%)')\n",
    "ax.legend(bbox_to_anchor=(1.40, 1.025),loc='upper right', fancybox=False, framealpha=0.0, title='Tissue Type', alignment='left')"
   ]
  }
 ],
 "metadata": {
  "kernelspec": {
   "display_name": "metabodgd",
   "language": "python",
   "name": "python3"
  },
  "language_info": {
   "name": "python",
   "version": "3.12.9"
  }
 },
 "nbformat": 4,
 "nbformat_minor": 5
}
