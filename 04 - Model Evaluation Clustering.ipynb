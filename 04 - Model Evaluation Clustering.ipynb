{
 "cells": [
  {
   "cell_type": "markdown",
   "id": "19b64547",
   "metadata": {},
   "source": [
    "# 04 - Model Evaluation (Clustering)"
   ]
  },
  {
   "cell_type": "markdown",
   "id": "fb83e4a3",
   "metadata": {},
   "source": [
    "## I. Preliminaries"
   ]
  },
  {
   "cell_type": "markdown",
   "id": "3dd75f4e",
   "metadata": {},
   "source": [
    "Import the libraries and functions for model evaluation."
   ]
  },
  {
   "cell_type": "code",
   "execution_count": null,
   "id": "d1fb3c8b",
   "metadata": {},
   "outputs": [],
   "source": [
    "# Libraries Here"
   ]
  },
  {
   "cell_type": "markdown",
   "id": "a42e09dd",
   "metadata": {},
   "source": [
    "Import the trained DGD model for evaluation."
   ]
  },
  {
   "cell_type": "code",
   "execution_count": null,
   "id": "cfa33529",
   "metadata": {},
   "outputs": [],
   "source": [
    "dgd_final = model.MetaboDGD(\n",
    "    latent_dim=50,\n",
    "    output_dim=np_normal_log.shape[1],\n",
    "    dec_hidden_layers_dim=[500, 1500],\n",
    "    dec_output_prediction_type='mean',\n",
    "    dec_output_activation_type='softplus',\n",
    "    n_comp=8,\n",
    "    cm_type='diagonal',\n",
    "    gaussian_stddev=0.5\n",
    ")\n",
    "\n",
    "dgd_final.dec.load_state_dict(torch.load('torch_outputs/torch_outputs_dec.pt'))\n",
    "dgd_final.gmm.load_state_dict(torch.load('torch_outputs/torch_outputs_gmm.pt'))\n",
    "# dgd_final.dec.load_state_dict(torch.load('98_85_acc/torch_outputs_dec.pt'))\n",
    "# dgd_final.gmm.load_state_dict(torch.load('98_85_acc/torch_outputs_gmm.pt'))"
   ]
  },
  {
   "cell_type": "markdown",
   "id": "897890ae",
   "metadata": {},
   "source": [
    "Import the learned representations of the training samples."
   ]
  },
  {
   "cell_type": "code",
   "execution_count": null,
   "id": "f3f3e0ad",
   "metadata": {},
   "outputs": [],
   "source": [
    "from metaboDGD.src.latent import RepresentationLayer\n",
    "train_rep_final = RepresentationLayer(values=torch.zeros(size=(np_normal_log.shape[0], dgd_final.gmm.dim)))\n",
    "train_rep_final.load_state_dict(torch.load('torch_outputs/torch_outputs_train_rep.pt'))\n",
    "# train_rep_final.load_state_dict(torch.load('98_85_acc/torch_outputs_train_rep.pt'))"
   ]
  },
  {
   "cell_type": "markdown",
   "id": "63addeab",
   "metadata": {},
   "source": [
    "## II. Model Evaluation - Figure X"
   ]
  },
  {
   "cell_type": "markdown",
   "id": "486ba9b2",
   "metadata": {},
   "source": [
    "## III. Model Evaluation - Figure Y"
   ]
  }
 ],
 "metadata": {
  "kernelspec": {
   "display_name": "metabodgd",
   "language": "python",
   "name": "python3"
  },
  "language_info": {
   "name": "python",
   "version": "3.12.9"
  }
 },
 "nbformat": 4,
 "nbformat_minor": 5
}
