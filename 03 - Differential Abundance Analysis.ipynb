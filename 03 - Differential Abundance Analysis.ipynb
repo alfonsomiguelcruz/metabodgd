{
 "cells": [
  {
   "cell_type": "markdown",
   "id": "19b64547",
   "metadata": {},
   "source": [
    "# 03a - Differential Abundance Analysis"
   ]
  },
  {
   "cell_type": "markdown",
   "id": "fb83e4a3",
   "metadata": {},
   "source": [
    "## I. Preliminaries"
   ]
  },
  {
   "cell_type": "markdown",
   "id": "3dd75f4e",
   "metadata": {},
   "source": [
    "Import the libraries and functions for model evaluation."
   ]
  },
  {
   "cell_type": "code",
   "execution_count": 77,
   "id": "d1fb3c8b",
   "metadata": {},
   "outputs": [],
   "source": [
    "from scipy.stats import norm, false_discovery_control, mannwhitneyu\n",
    "import seaborn as sns\n",
    "import numpy as np\n",
    "import pandas as pd\n",
    "import matplotlib.pyplot as plt\n",
    "import torch\n",
    "import yaml\n",
    "import pickle\n",
    "\n",
    "from metaboDGD.src import model\n",
    "from metaboDGD.src.latent import RepresentationLayer"
   ]
  },
  {
   "cell_type": "code",
   "execution_count": 16,
   "id": "0cd80e6b",
   "metadata": {},
   "outputs": [],
   "source": [
    "metabolite_list = []\n",
    "\n",
    "f = open('metabolite_list.txt', 'r')\n",
    "for i in f:\n",
    "    if i.strip() != 'cohort':\n",
    "        metabolite_list.append(i.strip())\n",
    "f.close()"
   ]
  },
  {
   "cell_type": "code",
   "execution_count": 17,
   "id": "b5085cb9",
   "metadata": {},
   "outputs": [],
   "source": [
    "normal_sample_list = []\n",
    "\n",
    "f = open('normal_sample_list.txt', 'r')\n",
    "for i in f:\n",
    "    normal_sample_list.append(i)\n",
    "f.close()"
   ]
  },
  {
   "cell_type": "code",
   "execution_count": 18,
   "id": "5808ecbc",
   "metadata": {},
   "outputs": [],
   "source": [
    "disease_sample_list = []\n",
    "f = open('disease_sample_list.txt', 'r')\n",
    "for i in f:\n",
    "    disease_sample_list.append(i)\n",
    "f.close()"
   ]
  },
  {
   "cell_type": "code",
   "execution_count": null,
   "id": "880289fe",
   "metadata": {},
   "outputs": [],
   "source": [
    "f = open('sept_outputs/results.pkl', 'rb')\n",
    "results = pickle.load(f)\n",
    "f.close()\n",
    "\n",
    "np_normal_lbls = results['np_normal_lbls']\n",
    "np_normal_log = results['np_normal_log']\n",
    "cohorts_normal = results['cohorts_normal']\n",
    "\n",
    "np_tumor_lbls = results['np_tumor_lbls']\n",
    "np_tumor_log = results['np_tumor_log']\n",
    "cohorts_tumor = results['cohorts_tumor']"
   ]
  },
  {
   "cell_type": "code",
   "execution_count": 5,
   "id": "68685cb2",
   "metadata": {},
   "outputs": [
    {
     "data": {
      "text/plain": [
       "<All keys matched successfully>"
      ]
     },
     "execution_count": 5,
     "metadata": {},
     "output_type": "execute_result"
    }
   ],
   "source": [
    "config_model = yaml.safe_load(open('model.yaml', 'r'))\n",
    "config_train = yaml.safe_load(open('train.yaml', 'r'))\n",
    "\n",
    "dgd_final = model.MetaboDGD(**config_model)\n",
    "dgd_final.dec.load_state_dict(torch.load('sept_outputs/torch_outputs_dec.pt'))\n",
    "dgd_final.gmm.load_state_dict(torch.load('sept_outputs/torch_outputs_gmm.pt'))\n",
    "\n",
    "train_rep_final = RepresentationLayer(values=torch.zeros(size=(np_normal_log.shape[0], dgd_final.gmm.dim)))\n",
    "train_rep_final.load_state_dict(torch.load('sept_outputs/torch_outputs_train_rep.pt'))"
   ]
  },
  {
   "cell_type": "code",
   "execution_count": 6,
   "id": "a6ce7358",
   "metadata": {},
   "outputs": [],
   "source": [
    "f = open('sept_outputs/tumor_results.pkl', 'rb')\n",
    "tumor_results = pickle.load(f)\n",
    "f.close()\n",
    "\n",
    "tumor_rep_final = tumor_results['tumor_rep_final']\n",
    "dec_out_final   = tumor_results['dec_out_final']"
   ]
  },
  {
   "cell_type": "markdown",
   "id": "0349e248",
   "metadata": {},
   "source": [
    "## II. Differential Abundance Analysis (1 vs. 1; Tumor vs. Generated Normal)"
   ]
  },
  {
   "cell_type": "code",
   "execution_count": 12,
   "id": "1e52b736",
   "metadata": {},
   "outputs": [],
   "source": [
    "# Use decoder output and decoder's std for norm\n",
    "coad_sample_idx = 200\n",
    "loc = dec_out_final[coad_sample_idx,:]\n",
    "scale = dgd_final.dec.normal_layer.std.detach().flatten().numpy()\n",
    "norm_rv = norm(loc=loc, scale=scale)\n",
    "\n",
    "# Get first sample\n",
    "tumor_coad = np_tumor_log[coad_sample_idx]\n",
    "gnorm_coad = np.copy(loc)"
   ]
  },
  {
   "cell_type": "code",
   "execution_count": 13,
   "id": "d310f26c",
   "metadata": {},
   "outputs": [],
   "source": [
    "# Use observed abundance\n",
    "p_vals = 2 * np.minimum(norm_rv.cdf(tumor_coad), 1-norm_rv.cdf(tumor_coad))\n",
    "q_vals = false_discovery_control(p_vals, method='bh')\n",
    "log2_fold_changes = (tumor_coad + 1e-6) / (gnorm_coad + 1e-6)"
   ]
  },
  {
   "cell_type": "code",
   "execution_count": 19,
   "id": "5957a59a",
   "metadata": {},
   "outputs": [
    {
     "data": {
      "text/html": [
       "<div>\n",
       "<style scoped>\n",
       "    .dataframe tbody tr th:only-of-type {\n",
       "        vertical-align: middle;\n",
       "    }\n",
       "\n",
       "    .dataframe tbody tr th {\n",
       "        vertical-align: top;\n",
       "    }\n",
       "\n",
       "    .dataframe thead th {\n",
       "        text-align: right;\n",
       "    }\n",
       "</style>\n",
       "<table border=\"1\" class=\"dataframe\">\n",
       "  <thead>\n",
       "    <tr style=\"text-align: right;\">\n",
       "      <th></th>\n",
       "      <th>p_value</th>\n",
       "      <th>q_value</th>\n",
       "      <th>log2_fold_changes</th>\n",
       "    </tr>\n",
       "  </thead>\n",
       "  <tbody>\n",
       "    <tr>\n",
       "      <th>(+)-(S)-Carvone</th>\n",
       "      <td>1.000000</td>\n",
       "      <td>1.0</td>\n",
       "      <td>0.999996</td>\n",
       "    </tr>\n",
       "    <tr>\n",
       "      <th>(+)-15,16-Dihydroxyoctadecanoic acid</th>\n",
       "      <td>0.956523</td>\n",
       "      <td>1.0</td>\n",
       "      <td>0.000006</td>\n",
       "    </tr>\n",
       "    <tr>\n",
       "      <th>(+)-2,3-Dihydro-3-methyl-1H-pyrrole</th>\n",
       "      <td>1.000000</td>\n",
       "      <td>1.0</td>\n",
       "      <td>1.000000</td>\n",
       "    </tr>\n",
       "    <tr>\n",
       "      <th>(+)-7-Isojasmonic acid</th>\n",
       "      <td>0.999999</td>\n",
       "      <td>1.0</td>\n",
       "      <td>0.203948</td>\n",
       "    </tr>\n",
       "    <tr>\n",
       "      <th>(+)-Aschantin</th>\n",
       "      <td>0.999917</td>\n",
       "      <td>1.0</td>\n",
       "      <td>0.003279</td>\n",
       "    </tr>\n",
       "    <tr>\n",
       "      <th>...</th>\n",
       "      <td>...</td>\n",
       "      <td>...</td>\n",
       "      <td>...</td>\n",
       "    </tr>\n",
       "    <tr>\n",
       "      <th>¦Â-Alanine</th>\n",
       "      <td>1.000000</td>\n",
       "      <td>1.0</td>\n",
       "      <td>1.000000</td>\n",
       "    </tr>\n",
       "    <tr>\n",
       "      <th>¦Â-Estradiol</th>\n",
       "      <td>1.000000</td>\n",
       "      <td>1.0</td>\n",
       "      <td>1.000000</td>\n",
       "    </tr>\n",
       "    <tr>\n",
       "      <th>¦Â-Estradiol-17¦Â-glucuronide</th>\n",
       "      <td>1.000000</td>\n",
       "      <td>1.0</td>\n",
       "      <td>1.000000</td>\n",
       "    </tr>\n",
       "    <tr>\n",
       "      <th>¦Â-Muricholic acid</th>\n",
       "      <td>1.000000</td>\n",
       "      <td>1.0</td>\n",
       "      <td>1.000000</td>\n",
       "    </tr>\n",
       "    <tr>\n",
       "      <th>¦Ä-Ribono-1,4-lactone</th>\n",
       "      <td>1.000000</td>\n",
       "      <td>1.0</td>\n",
       "      <td>1.000000</td>\n",
       "    </tr>\n",
       "  </tbody>\n",
       "</table>\n",
       "<p>10773 rows × 3 columns</p>\n",
       "</div>"
      ],
      "text/plain": [
       "                                       p_value  q_value  log2_fold_changes\n",
       "(+)-(S)-Carvone                       1.000000      1.0           0.999996\n",
       "(+)-15,16-Dihydroxyoctadecanoic acid  0.956523      1.0           0.000006\n",
       "(+)-2,3-Dihydro-3-methyl-1H-pyrrole   1.000000      1.0           1.000000\n",
       "(+)-7-Isojasmonic acid                0.999999      1.0           0.203948\n",
       "(+)-Aschantin                         0.999917      1.0           0.003279\n",
       "...                                        ...      ...                ...\n",
       "¦Â-Alanine                            1.000000      1.0           1.000000\n",
       "¦Â-Estradiol                          1.000000      1.0           1.000000\n",
       "¦Â-Estradiol-17¦Â-glucuronide         1.000000      1.0           1.000000\n",
       "¦Â-Muricholic acid                    1.000000      1.0           1.000000\n",
       "¦Ä-Ribono-1,4-lactone                 1.000000      1.0           1.000000\n",
       "\n",
       "[10773 rows x 3 columns]"
      ]
     },
     "execution_count": 19,
     "metadata": {},
     "output_type": "execute_result"
    }
   ],
   "source": [
    "pd.DataFrame({\n",
    "    'p_value': p_vals,\n",
    "    'q_value': q_vals,\n",
    "    'log2_fold_changes': log2_fold_changes\n",
    "}, index=metabolite_list)"
   ]
  },
  {
   "cell_type": "markdown",
   "id": "9edd9fcc",
   "metadata": {},
   "source": [
    "## III. Differential Abundance Analysis (1 vs. Many; Tumor vs. Real Normal)"
   ]
  },
  {
   "cell_type": "code",
   "execution_count": 20,
   "id": "5b56407b",
   "metadata": {},
   "outputs": [],
   "source": [
    "# COAD Samples Only\n",
    "normal_coad = np_normal_log[118:157,:]\n",
    "tumor_coad = np_tumor_log[180:217,:]"
   ]
  },
  {
   "cell_type": "code",
   "execution_count": 22,
   "id": "57420800",
   "metadata": {},
   "outputs": [],
   "source": [
    "p_val = mannwhitneyu(tumor_coad,normal_coad, alternative='two-sided').pvalue\n",
    "q_val = false_discovery_control(p_val, method='bh')"
   ]
  },
  {
   "cell_type": "markdown",
   "id": "bd12ea70",
   "metadata": {},
   "source": [
    "## Figure 4B and 4C"
   ]
  },
  {
   "cell_type": "markdown",
   "id": "888f0b96",
   "metadata": {},
   "source": [
    "Specificity"
   ]
  },
  {
   "cell_type": "code",
   "execution_count": 30,
   "id": "f1dcd697",
   "metadata": {},
   "outputs": [],
   "source": [
    "# COAD Samples Only\n",
    "normal_coad = np_normal_log[118:157,:]"
   ]
  },
  {
   "cell_type": "code",
   "execution_count": null,
   "id": "e9f7bfdc",
   "metadata": {},
   "outputs": [],
   "source": [
    "rep_normal, dec_normal = dgd_final.get_representations(\n",
    "                                        np_normal_log,\n",
    "                                        np_normal_lbls,\n",
    "                                        1192\n",
    "                                    )"
   ]
  },
  {
   "cell_type": "code",
   "execution_count": null,
   "id": "f6d7ad2b",
   "metadata": {},
   "outputs": [],
   "source": [
    "random_coad_idx = np.random.choice(np.r_[118:157],size=10, replace=False)\n",
    "other_coad_idx = np.array(list(set(np.r_[118:157]) - set(random_coad_idx)))"
   ]
  },
  {
   "cell_type": "code",
   "execution_count": 132,
   "id": "c1a33172",
   "metadata": {},
   "outputs": [],
   "source": [
    "# Get number of DAMs at varying thresholds for each randomly chosen sample (1 vs. 1)\n",
    "threshold = np.arange(0.01, 0.11, 0.01)\n",
    "dam_counts = []\n",
    "for t in threshold:\n",
    "    dea_count_t = []\n",
    "    for i in random_coad_idx:\n",
    "        loc = dec_normal[i].detach().numpy()\n",
    "        scale = dgd_final.dec.normal_layer.std.detach().flatten().numpy()\n",
    "        norm_rv = norm(loc=loc, scale=scale)\n",
    "\n",
    "        # Use observed abundance\n",
    "        p_vals = 2 * np.minimum(norm_rv.cdf(np_normal_log[i]), 1-norm_rv.cdf(np_normal_log[i]))\n",
    "        q_vals = false_discovery_control(p_vals, method='bh')\n",
    "\n",
    "        dea_count_t.append(len(q_vals[q_vals<t]))\n",
    "    dam_counts.append(np.array(dea_count_t))"
   ]
  },
  {
   "cell_type": "code",
   "execution_count": null,
   "id": "8ed0986e",
   "metadata": {},
   "outputs": [],
   "source": [
    "# Get number of DAMs by comparing generated normal \n",
    "p_vals = mannwhitneyu(np_normal_log[random_coad_idx], np_normal_log[other_coad_idx], alternative='two-sided').pvalue\n",
    "q_vals = false_discovery_control(p_vals, method='bh')\n",
    "mwu_dam_counts = []\n",
    "for t in threshold:\n",
    "    mwu_dam_counts.append(len(q_vals[q_vals<t]))"
   ]
  },
  {
   "cell_type": "markdown",
   "id": "21d7586c",
   "metadata": {},
   "source": [
    "Plot 4B (Number of DAMs in varying intervals)"
   ]
  },
  {
   "cell_type": "code",
   "execution_count": 141,
   "id": "5c6804f2",
   "metadata": {},
   "outputs": [
    {
     "data": {
      "image/png": "[encoded data removed]",
      "text/plain": [
       "<Figure size 600x300 with 1 Axes>"
      ]
     },
     "metadata": {},
     "output_type": "display_data"
    }
   ],
   "source": [
    "fig, ax = plt.subplots(figsize=(6,3))\n",
    "\n",
    "\n",
    "ax.boxplot(dam_counts, label='DGD')\n",
    "ax.scatter(np.arange(1,10+1), np.array(mwu_dam_counts),  marker='o', label='Mann-Whitney U')\n",
    "\n",
    "ax.set_xticklabels(np.round(threshold, 2))\n",
    "ax.set_xticks(np.arange(1,10+1), np.round(threshold, 2))\n",
    "ax.set_xlabel(\"Adjusted p-value\")\n",
    "ax.set_ylabel(\"DAMs\")\n",
    "\n",
    "ax.legend(bbox_to_anchor=(1.4, 1.025),\n",
    "               loc='upper right',\n",
    "               framealpha=1.0,\n",
    "               title='Method',\n",
    "               alignment='left')\n",
    "plt.show()"
   ]
  }
 ],
 "metadata": {
  "kernelspec": {
   "display_name": "metabodgd",
   "language": "python",
   "name": "python3"
  },
  "language_info": {
   "codemirror_mode": {
    "name": "ipython",
    "version": 3
   },
   "file_extension": ".py",
   "mimetype": "text/x-python",
   "name": "python",
   "nbconvert_exporter": "python",
   "pygments_lexer": "ipython3",
   "version": "3.12.9"
  }
 },
 "nbformat": 4,
 "nbformat_minor": 5
}
