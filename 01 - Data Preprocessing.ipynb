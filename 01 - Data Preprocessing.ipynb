{
 "cells": [
  {
   "cell_type": "markdown",
   "id": "6ac46950",
   "metadata": {},
   "source": [
    "# 01 - Data Preprocessing"
   ]
  },
  {
   "cell_type": "markdown",
   "id": "47024b45",
   "metadata": {},
   "source": [
    "GOAL: Create Normal Training Dataset"
   ]
  },
  {
   "cell_type": "markdown",
   "id": "0a734dd5",
   "metadata": {},
   "source": [
    "## A - Libraries"
   ]
  },
  {
   "cell_type": "code",
   "execution_count": 10,
   "id": "e5831400",
   "metadata": {},
   "outputs": [],
   "source": [
    "import pandas as pd\n",
    "import numpy as np\n",
    "import os"
   ]
  },
  {
   "cell_type": "markdown",
   "id": "13b7d12d",
   "metadata": {},
   "source": [
    "## B - Retrieving Separate Datasets"
   ]
  },
  {
   "cell_type": "code",
   "execution_count": 37,
   "id": "43eebfbb",
   "metadata": {},
   "outputs": [],
   "source": [
    "def get_cohort_samples(cohort_name):\n",
    "    # Get the xls file\n",
    "    xls = pd.ExcelFile(f'data/PreprocessedData_{cohort_name}.xlsx')\n",
    "\n",
    "    # Get the dataframes for the preprocessed metabolomics data\n",
    "    n = xls.parse(\"metabo_imputed_filtered_Normal\")\n",
    "\n",
    "    # Get list of metabolites\n",
    "    n_met_list = n[\"Unnamed: 0\"].to_list()\n",
    "\n",
    "    # Get list of sample IDs\n",
    "    n_sample_list = n.columns.to_list()[1:]\n",
    "\n",
    "    # Set Index to metabolite names, drop \"Unnamed: 0\" column\n",
    "    n.set_index(\"Unnamed: 0\", inplace=True)\n",
    "\n",
    "    return {\n",
    "        \"sample_list\"   : n_sample_list,\n",
    "        \"met_list\"      : n_met_list,\n",
    "        \"matrix\"        : n\n",
    "    }\n",
    "\n",
    "cohorts = {\n",
    "    \"BRCA1\": None,\n",
    "    \"COAD\": None,\n",
    "    \"ccRCC3\": None,\n",
    "    \"ccRCC4\": None,\n",
    "    \"GBM\": None,\n",
    "    \"HurthleCC\": None,\n",
    "    \"PDAC\": None,\n",
    "    \"PRAD\": None,\n",
    "}\n",
    "\n",
    "for c in cohorts.keys():\n",
    "    cohorts[c] = get_cohort_samples(c)"
   ]
  },
  {
   "cell_type": "code",
   "execution_count": 56,
   "id": "2508577a",
   "metadata": {},
   "outputs": [],
   "source": [
    "met_union_set = set()\n",
    "sample_list_all = []\n",
    "for c in cohorts.keys():\n",
    "    met_union_set    |= set(cohorts[c][\"met_list\"])\n",
    "    sample_list_all += cohorts[c][\"sample_list\"]\n",
    "\n",
    "met_list_all    = list(met_union_set)\n",
    "met_list_all.sort()\n"
   ]
  },
  {
   "cell_type": "code",
   "execution_count": null,
   "id": "a1a5e824",
   "metadata": {},
   "outputs": [],
   "source": [
    "def construct_training_dataframe(met_list_all, sample_list_all, cohorts):\n",
    "    df = pd.DataFrame(np.zeros(shape=(len(met_list_all), len(sample_list_all))),\n",
    "                      index=met_list_all,\n",
    "                      columns=sample_list_all)\n",
    "    \n",
    "    for c in cohorts:\n",
    "        for m in cohorts[c]['met_list']:\n",
    "            for s in cohorts[c]['sample_list']:\n",
    "                df.loc[m][s] = cohorts[c][\"matrix\"].loc[m][s]\n",
    "    return df\n",
    "\n",
    "df = construct_training_dataframe(met_list_all, sample_list_all, cohorts)"
   ]
  },
  {
   "cell_type": "code",
   "execution_count": 100,
   "id": "285808d3",
   "metadata": {},
   "outputs": [
    {
     "data": {
      "image/png": "[encoded data removed]",
      "text/plain": [
       "<Figure size 640x480 with 1 Axes>"
      ]
     },
     "metadata": {},
     "output_type": "display_data"
    }
   ],
   "source": [
    "from sklearn.decomposition import PCA\n",
    "import matplotlib.pyplot as plt\n",
    "np_df = df.T.to_numpy()\n",
    "pca_model = PCA(n_components=2)\n",
    "results = pca_model.fit_transform(np_df)\n",
    "\n",
    "plt.scatter(results[0:47,0], results[0:47, 1], c='red'          ,label=\"BRCA1\")\n",
    "plt.scatter(results[47:86,0], results[47:86, 1], c='orange'     ,label=\"COAD\")\n",
    "plt.scatter(results[86:133,0], results[86:133, 1], c='yellow'   ,label=\"ccRCC3\")\n",
    "plt.scatter(results[133:157,0], results[133:157, 1], c='green'  ,label=\"ccRCC4\")\n",
    "plt.scatter(results[157:163,0], results[157:163, 1], c='blue'   ,label=\"GBM\")\n",
    "plt.scatter(results[163:166,0], results[163:166, 1], c='purple' ,label=\"HurthleCC\")\n",
    "plt.scatter(results[166:178,0], results[166:178, 1], c='pink'   ,label=\"PDAC\")\n",
    "plt.scatter(results[178:224,0], results[178:224, 1], c='black'  ,label=\"PRAD\")\n",
    "plt.legend()\n",
    "plt.show()"
   ]
  },
  {
   "cell_type": "code",
   "execution_count": 33,
   "id": "bc1d9e70",
   "metadata": {},
   "outputs": [
    {
     "name": "stdout",
     "output_type": "stream",
     "text": [
      "                              DFCI-00530  DFCI-00532  DFCI-00536  DFCI-00540  \\\n",
      "n_met                                                                          \n",
      "1,2-propanediol                -3.145295   -1.874510    0.022213   -2.474979   \n",
      "1,3-diaminopropane             -3.136273   -3.136273   -3.136273   -1.600155   \n",
      "1,5-anhydroglucitol (1,5-AG)   -0.573711    0.179714   -0.596981   -0.660364   \n",
      "1,7-dimethylurate               0.804077    0.465929   -0.288257    0.852950   \n",
      "1-arachidonoyl-GPC (20:4n6)    -0.921294    1.793375    0.044667    0.247106   \n",
      "...                                  ...         ...         ...         ...   \n",
      "leucylleucine                  -1.565186   -1.565186   -1.565186   -1.565186   \n",
      "piperine                       -2.578222   -2.578222   -2.578222   -2.578222   \n",
      "saccharopine                   -1.902064   -1.902064   -1.902064   -1.902064   \n",
      "theobromine                    -1.693003   -1.693003   -1.693003   -1.693003   \n",
      "UDP-N-acetylglucosamine        -2.076153   -2.076153   -2.076153   -2.076153   \n",
      "\n",
      "                              DFCI-00546  DFCI-00548  DFCI-00549  DFCI-00566  \\\n",
      "n_met                                                                          \n",
      "1,2-propanediol                -0.958720    5.589132    0.602417    1.909557   \n",
      "1,3-diaminopropane             -0.234255   -3.136273   -3.136273   -3.136273   \n",
      "1,5-anhydroglucitol (1,5-AG)    0.416349   -0.147009    0.412140    0.776277   \n",
      "1,7-dimethylurate              -2.297557   -2.297557   -0.949928   -2.297557   \n",
      "1-arachidonoyl-GPC (20:4n6)    -0.474617   -0.063363   -1.468218   -1.603548   \n",
      "...                                  ...         ...         ...         ...   \n",
      "leucylleucine                  -1.565186   -1.565186   -1.565186   -1.565186   \n",
      "piperine                       -2.578222   -2.578222   -2.578222   -2.578222   \n",
      "saccharopine                   -1.902064   -1.902064   -1.902064   -1.902064   \n",
      "theobromine                    -1.693003   -1.693003   -1.693003   -1.693003   \n",
      "UDP-N-acetylglucosamine        -2.076153   -2.076153   -2.076153   -2.076153   \n",
      "\n",
      "                              DFCI-00574  DFCI-00601  ...  DFCI-00067-01  \\\n",
      "n_met                                                 ...                  \n",
      "1,2-propanediol                 0.146827   -0.025582  ...      -3.145295   \n",
      "1,3-diaminopropane             -3.136273   -0.509384  ...      -3.136273   \n",
      "1,5-anhydroglucitol (1,5-AG)    0.299376    0.460454  ...       0.450058   \n",
      "1,7-dimethylurate              -2.297557    0.326853  ...      -2.297557   \n",
      "1-arachidonoyl-GPC (20:4n6)    -0.530024    1.091974  ...      -2.637861   \n",
      "...                                  ...         ...  ...            ...   \n",
      "leucylleucine                  -1.565186   -1.565186  ...       0.434599   \n",
      "piperine                       -2.578222   -2.578222  ...       0.315930   \n",
      "saccharopine                   -1.902064   -1.902064  ...      -0.008488   \n",
      "theobromine                    -1.693003   -1.693003  ...      -0.812904   \n",
      "UDP-N-acetylglucosamine        -2.076153   -2.076153  ...       0.259274   \n",
      "\n",
      "                              DFCI-00068-01  DFCI-00091-01  DFCI-00092-01  \\\n",
      "n_met                                                                       \n",
      "1,2-propanediol                   -3.145295      -3.145295      -3.145295   \n",
      "1,3-diaminopropane                -3.136273      -3.136273      -3.136273   \n",
      "1,5-anhydroglucitol (1,5-AG)       0.210073       0.115412       0.628547   \n",
      "1,7-dimethylurate                 -2.297557      -2.297557      -2.297557   \n",
      "1-arachidonoyl-GPC (20:4n6)       -2.637861      -2.637861      -2.637861   \n",
      "...                                     ...            ...            ...   \n",
      "leucylleucine                     -1.565186       0.112271       0.299822   \n",
      "piperine                           0.866912      -0.373890       0.145679   \n",
      "saccharopine                       0.229610      -1.103212      -1.902064   \n",
      "theobromine                        1.666093       0.417098       1.370373   \n",
      "UDP-N-acetylglucosamine           -0.473693      -0.398006      -0.474252   \n",
      "\n",
      "                              DFCI-00093-01  DFCI-00095-01  DFCI-00097-01  \\\n",
      "n_met                                                                       \n",
      "1,2-propanediol                   -3.145295      -3.145295      -3.145295   \n",
      "1,3-diaminopropane                -3.136273      -3.136273      -3.136273   \n",
      "1,5-anhydroglucitol (1,5-AG)       0.275939      -0.298843       0.207496   \n",
      "1,7-dimethylurate                 -0.442552      -0.193674      -2.297557   \n",
      "1-arachidonoyl-GPC (20:4n6)       -2.637861      -2.637861      -2.637861   \n",
      "...                                     ...            ...            ...   \n",
      "leucylleucine                     -0.314546      -0.505769       2.676821   \n",
      "piperine                          -0.914882      -0.974664      -0.141699   \n",
      "saccharopine                      -0.672637      -0.851739      -0.036067   \n",
      "theobromine                       -0.048835      -0.803162      -0.510192   \n",
      "UDP-N-acetylglucosamine           -0.427517      -0.319552      -0.324792   \n",
      "\n",
      "                              DFCI-00118-01  DFCI-00121-01  DFCI-00123-01  \n",
      "n_met                                                                      \n",
      "1,2-propanediol                   -3.145295      -3.145295      -3.145295  \n",
      "1,3-diaminopropane                -3.136273      -3.136273      -3.136273  \n",
      "1,5-anhydroglucitol (1,5-AG)       0.494756       1.304401      -0.204049  \n",
      "1,7-dimethylurate                 -2.297557      -2.297557      -2.297557  \n",
      "1-arachidonoyl-GPC (20:4n6)       -2.637861      -2.637861      -2.637861  \n",
      "...                                     ...            ...            ...  \n",
      "leucylleucine                      0.746141      -0.254386      -0.134350  \n",
      "piperine                          -0.128663      -0.637119       0.128936  \n",
      "saccharopine                       0.011490      -0.353007      -0.241760  \n",
      "theobromine                       -0.353108       0.404426      -1.693003  \n",
      "UDP-N-acetylglucosamine           -0.001826      -0.698970       0.064421  \n",
      "\n",
      "[382 rows x 46 columns]\n"
     ]
    }
   ],
   "source": [
    "# Get the xls file\n",
    "cohort_name = \"PRAD\"\n",
    "xls = pd.ExcelFile(f'data/PreprocessedData_{cohort_name}.xlsx')\n",
    "\n",
    "# Get the dataframes for the preprocessed metabolomics data\n",
    "# t = xls.parse(\"metabo_imputed_filtered_Tumor\")\n",
    "n = xls.parse(\"metabo_imputed_filtered_Normal\")\n",
    "\n",
    "# Replace IDs of the dataframes\n",
    "# t.rename({\"Unnamed: 0\": \"t_met\"}, inplace=True, axis=1)\n",
    "n.rename({\"Unnamed: 0\": \"n_met\"}, inplace=True, axis=1)\n",
    "\n",
    "# Get list of metabolites\n",
    "# t_list = t[\"t_met\"].to_list()\n",
    "n_list = n[\"n_met\"].to_list()\n",
    "# met_list = list(set(t_list) | set(n_list))\n",
    "\n",
    "# Create a dictionary of the metabolite names and HMDB IDs\n",
    "###########\n",
    "# 05/25/25 - Eliminated HMDB IDs use because only 72% of the features have HMDB IDs across all cohorts\n",
    "# For Reference:\n",
    "#           TOTAL_FEATURES  TOTAL_FEATURES_WITH_HMDB_IDS\n",
    "# BRCA1     324             215\n",
    "# COAD      160\t            141\n",
    "# ccRCC3    727\t            551\n",
    "# ccRCC4    951\t            701\n",
    "# GBM       704\t            357\n",
    "# HurthleCC 668\t            523\n",
    "# PDAC      325\t            279\n",
    "# PRAD      382\t            320\n",
    "###########\n",
    "# metanno = xls.parse(\"metanno\")\n",
    "# metanno_dict = metanno.set_index(\"H_name\")[\"H_HMDB\"].to_dict()\n",
    "# hmdb_list = set(metanno.loc[metanno[\"H_name\"].isin(n_list)][\"H_HMDB\"].tolist()\n",
    "\n",
    "\n",
    "# Get dataframe with only sorted shared metabolites\n",
    "# t_shared = t[t[\"t_met\"].isin(met_list)]\n",
    "# t_shared.sort_values(\"t_met\", ignore_index=True, inplace=True)\n",
    "# n_shared = n[n[\"n_met\"].isin(met_list)]\n",
    "# n_shared.sort_values(\"n_met\", ignore_index=True, inplace=True)\n",
    "# merged = pd.concat([t_shared, n_shared], axis=1)\n",
    "\n",
    "# n = n.set_index(n[\"n_met\"])\n",
    "n_no_labels = n.drop(labels=['n_met'], axis=1)\n",
    "print(n.set_index(\"n_met\"))"
   ]
  }
 ],
 "metadata": {
  "kernelspec": {
   "display_name": "base",
   "language": "python",
   "name": "python3"
  },
  "language_info": {
   "codemirror_mode": {
    "name": "ipython",
    "version": 3
   },
   "file_extension": ".py",
   "mimetype": "text/x-python",
   "name": "python",
   "nbconvert_exporter": "python",
   "pygments_lexer": "ipython3",
   "version": "3.11.9"
  }
 },
 "nbformat": 4,
 "nbformat_minor": 5
}
