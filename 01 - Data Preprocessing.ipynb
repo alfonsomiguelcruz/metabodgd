{
 "cells": [
  {
   "cell_type": "markdown",
   "id": "6ac46950",
   "metadata": {},
   "source": [
    "# 01 - Data Preprocessing"
   ]
  },
  {
   "cell_type": "markdown",
   "id": "0a734dd5",
   "metadata": {},
   "source": [
    "## A - Libraries"
   ]
  },
  {
   "cell_type": "code",
   "execution_count": null,
   "id": "e5831400",
   "metadata": {},
   "outputs": [],
   "source": [
    "import os\n",
    "import pickle\n",
    "import pandas as pd\n",
    "import numpy as np\n",
    "from metaboDGD.util import data"
   ]
  },
  {
   "cell_type": "markdown",
   "id": "13b7d12d",
   "metadata": {},
   "source": [
    "## B - Retrieving Separate Datasets"
   ]
  },
  {
   "cell_type": "code",
   "execution_count": 15,
   "id": "215cd58e",
   "metadata": {},
   "outputs": [],
   "source": [
    "# Combine the CAMP cohort datasets to one dataframe\n",
    "df, cohorts = data.combine_cohort_datasets()"
   ]
  },
  {
   "cell_type": "code",
   "execution_count": 16,
   "id": "212924a7",
   "metadata": {},
   "outputs": [],
   "source": [
    "# Convert the df to a numpy array of dim (# samples, # metabolites)\n",
    "np_df = df.T.to_numpy()[:, :-1].astype(np.float64)\n",
    "\n",
    "# Get cells that have a 0.0\n",
    "np_df_zm = (np_df == 0)\n",
    "\n",
    "# Exponentiate the df by 2\n",
    "np_exp = np.exp2(np_df)\n",
    "\n",
    "# Retain the 0.0 values\n",
    "np_exp[np_df_zm] = 0.0\n",
    "\n",
    "# Recreate the exponent version of the dataframe\n",
    "df_rows = list(df.T.index)\n",
    "df_cols = list(df.T.columns)\n",
    "df_exp = pd.DataFrame(np_exp, index=df_rows, columns=df_cols[:-1])"
   ]
  },
  {
   "cell_type": "code",
   "execution_count": 17,
   "id": "440c5bc3",
   "metadata": {},
   "outputs": [],
   "source": [
    "dir = 'outputs/'\n",
    "if not os.path.exists(dir):\n",
    "    os.makedirs(dir)\n",
    "\n",
    "df_fname = 'CombinedDataset_CAMP.csv'\n",
    "df.to_csv(dir + df_fname)\n",
    "\n",
    "df_exp_fname = 'Exponent_CombinedDataset_CAMP.csv'\n",
    "df_exp.to_csv(dir + df_exp_fname)\n",
    "\n",
    "ch_fname = 'cohorts.pkl'\n",
    "f = open(dir + ch_fname, 'wb')\n",
    "pickle.dump(cohorts, f)\n",
    "f.close()"
   ]
  },
  {
   "cell_type": "markdown",
   "id": "7b3d75b1",
   "metadata": {},
   "source": [
    "## C - Exploratory Data Analysis"
   ]
  },
  {
   "cell_type": "code",
   "execution_count": null,
   "id": "5d119081",
   "metadata": {},
   "outputs": [],
   "source": [
    "from metaboDGD.src.prior import SoftballPrior\n",
    "from torch.distributions.uniform import Uniform\n",
    "\n",
    "radius=2\n",
    "softball_prior = SoftballPrior(latent_dim=1, radius=radius, sharpness=1)\n",
    "sb_samples = softball_prior.sample(n_sample=10000).squeeze(-1).numpy()\n",
    "\n",
    "uniform_dist = Uniform(low=-radius, high=radius)\n",
    "un_samples = uniform_dist.sample(sample_shape=(10000,)).numpy()\n",
    "\n",
    "plt.hist(sb_samples, bins=30, density=True, color='skyblue', edgecolor='black', alpha=0.5)\n",
    "plt.hist(un_samples, bins=30, density=True, color='pink', edgecolor='black'   , alpha=0.5)\n",
    "plt.show()"
   ]
  },
  {
   "cell_type": "code",
   "execution_count": null,
   "id": "aab1682f",
   "metadata": {},
   "outputs": [],
   "source": [
    "from sklearn.decomposition import PCA\n",
    "pca = PCA(n_components=2)\n",
    "pca_fit = pca.fit_transform(train_rep.z.detach().numpy())\n",
    "print(pca.explained_variance_ratio_)\n",
    "plt.scatter(pca_fit[0:37,0], pca_fit[0:37,1],       label='BRCA1',c='red')\n",
    "plt.scatter(pca_fit[37:74,0], pca_fit[37:74,1],     label='COAD',c='orange')\n",
    "plt.scatter(pca_fit[74:93,0], pca_fit[74:93,1],     label='ccRCC3',c='yellow')\n",
    "plt.scatter(pca_fit[93:124,0], pca_fit[93:124,1],   label='ccRCC4',c='green')\n",
    "plt.scatter(pca_fit[124:128,0], pca_fit[124:128,1], label='GBM',c='blue')\n",
    "plt.scatter(pca_fit[128:130,0], pca_fit[128:130,1], label='HurthleCC',c='purple')\n",
    "plt.scatter(pca_fit[130:139,0], pca_fit[130:139,1], label='PDAC',c='brown')\n",
    "plt.scatter(pca_fit[139:175,0], pca_fit[139:175,1], label='PRAD',c='black')\n",
    "plt.xlabel(f'PCA Variance: {(pca.explained_variance_ratio_[0] * 100):.2f}%')\n",
    "plt.ylabel(f'PCA Variance: {(pca.explained_variance_ratio_[1] * 100):.2f}%')\n",
    "# plt.legend()\n",
    "plt.show()"
   ]
  },
  {
   "cell_type": "code",
   "execution_count": null,
   "id": "88121383",
   "metadata": {},
   "outputs": [],
   "source": [
    "import scipy.stats as stats\n",
    "\n",
    "ch = \"PRAD\"\n",
    "met_list = list(df.index)\n",
    "# 9 or -9\n",
    "IDX = 9\n",
    "exp_df = df_exp[met_list[IDX]].to_numpy()\n",
    "log_df = df.T[met_list[IDX]].to_numpy()\n",
    "dataset_nz = exp_df[exp_df != 0.0]\n",
    "dataset_nz2 = log_df[log_df != 0.0]\n",
    "\n",
    "# log_normal_dist = stats.lognorm\n",
    "# y = log_normal_dist.rvs(std, loc=mean, scale=mean, size=1000)\n",
    "# x = np.linspace(0, y.max(), 1000)\n",
    "# param = log_normal_dist.fit(y, floc=0)\n",
    "# pdf_fitted = log_normal_dist.pdf(x, *param)\n",
    "#fit\n",
    "x = np.linspace(-3, np.max(dataset_nz), 10000)\n",
    "y = np.linspace(-3, np.max(dataset_nz2), 10000)\n",
    "\n",
    "shape, loc, scale = stats.lognorm.fit(dataset_nz)\n",
    "pdf               = stats.lognorm.pdf(x, shape, loc=loc, scale=scale)\n",
    "\n",
    "loc2, scale2 = stats.norm.fit(dataset_nz2)\n",
    "pdf2         = stats.norm.pdf(y, loc=loc2, scale=scale2)\n",
    "\n",
    "# plt.plot(x, pdf, c='darkgreen')\n",
    "# plt.hist(exp_df, bins=30, density=True, color='chartreuse', edgecolor='black', alpha=0.5)\n",
    "# plt.axvline(loc, c='green', alpha=0.3)\n",
    "\n",
    "plt.plot(y, pdf2, c='navy')\n",
    "plt.hist(log_df, bins=30, density=True, color='skyblue', edgecolor='black', alpha=0.5)\n",
    "# plt.axvline(loc2, c='blue', alpha=0.3)\n",
    "\n",
    "plt.xlim(left=-3)\n",
    "\n",
    "plt.xlabel(\"Log Metabolite Abundance\")\n",
    "plt.ylabel(\"Density\")\n",
    "# plt.title(\"LogNormal Distribution Fit - Exp Space\")\n",
    "# plt.xscale('log')\n",
    "plt.show()"
   ]
  },
  {
   "cell_type": "code",
   "execution_count": null,
   "id": "aa1b05a7",
   "metadata": {},
   "outputs": [],
   "source": [
    "for i in range(0, df_exp.shape[0]):\n",
    "    sample_0 = df_exp.to_numpy()[i]\n",
    "\n",
    "    # sample_0 = cohorts['BRCA1']['matrix'].T.to_numpy()[0]\n",
    "    sample_0_rev = np.sort(sample_0)[::-1]\n",
    "    idx = [x for x in range(0, len(sample_0_rev))]\n",
    "\n",
    "    plt.scatter(idx, sample_0_rev, c='dodgerblue', alpha=0.01)\n",
    "\n",
    "\n",
    "plt.xscale('log', base=2)\n",
    "plt.yscale('log', base=2)\n",
    "# plt.ylim(top=2**11)\n",
    "plt.title(\"Metabolite Abundance - Log-Log Plot (All 224 Samples)\")"
   ]
  },
  {
   "cell_type": "code",
   "execution_count": null,
   "id": "d881883e",
   "metadata": {},
   "outputs": [],
   "source": [
    "import numpy as np\n",
    "import matplotlib.pyplot as plt\n",
    "\n",
    "# Example data (could be empirical or synthetic)\n",
    "x = np.logspace(0.1, 2, 100)\n",
    "y = x ** -2.5  # example power law: y ∝ x^(-2.5)\n",
    "\n",
    "# Plot data\n",
    "plt.figure(figsize=(6, 5))\n",
    "plt.loglog(x, y, label='Power-law data', marker='o')\n",
    "\n",
    "# Plot reference line (same slope, arbitrary position)\n",
    "slope = -2.5\n",
    "k = 1e2  # constant to adjust vertical placement\n",
    "x_ref = np.logspace(0.1, 2, 100)\n",
    "y_ref = k * x_ref ** slope\n",
    "plt.loglog(x_ref, y_ref, 'k--', label=f'Reference line: slope={slope}')\n",
    "\n",
    "# Labels and legend\n",
    "plt.xlabel(\"x (log scale)\")\n",
    "plt.ylabel(\"y (log scale)\")\n",
    "plt.title(\"Log-Log Plot with Power-Law Line\")\n",
    "plt.legend()\n",
    "plt.show()\n"
   ]
  },
  {
   "cell_type": "code",
   "execution_count": null,
   "id": "2620a863",
   "metadata": {},
   "outputs": [],
   "source": [
    "from sklearn.metrics.pairwise import cosine_similarity\n",
    "from scipy.spatial.distance import cosine\n",
    "\n",
    "# cosine_similarity([np_df[1], dgd_model.dec(train_rep.z)[1].detach().numpy()], dense_output=False)\n",
    "cosine(np_df[1], dgd_model.dec(train_rep.z)[1].detach().numpy())\n"
   ]
  },
  {
   "cell_type": "code",
   "execution_count": null,
   "id": "04c92c57",
   "metadata": {},
   "outputs": [],
   "source": [
    "sample = np_df[0]\n",
    "zero_mask = (sample == 0)\n",
    "nonzero_mask = ~(zero_mask)"
   ]
  },
  {
   "cell_type": "code",
   "execution_count": null,
   "id": "b9e3f7c3",
   "metadata": {},
   "outputs": [],
   "source": [
    "# test = torch.rand((10,))\n",
    "# # test[5] = 0.0\n",
    "# # test[~(test == 0)] = 999.99\n",
    "# # test\n",
    "# torch.zeros_like(test)\n",
    "# torch.exp(gamma_dist.log_prob(torch.full(fill_value=1e-5, size=(1,10))))\n",
    "\n",
    "gamma_dist = D.Gamma(torch.full(fill_value=10.0, size=(1,)),\n",
    "                     torch.full(fill_value=0.25, size=(1,)))\n",
    "plt.hist(gamma_dist.sample(sample_shape=(50000,)).squeeze().numpy(), bins=300)\n",
    "plt.xlim(left=0, right=100)\n",
    "plt.show()"
   ]
  },
  {
   "cell_type": "code",
   "execution_count": null,
   "id": "08503e0c",
   "metadata": {},
   "outputs": [],
   "source": [
    "torch.split(torch.Tensor(np_df), 32)"
   ]
  },
  {
   "cell_type": "code",
   "execution_count": null,
   "id": "90a35dbd",
   "metadata": {},
   "outputs": [],
   "source": [
    "np.count(np_exp.var(axis=0) > np_exp.mean(axis=0))"
   ]
  },
  {
   "cell_type": "code",
   "execution_count": null,
   "id": "8464bfe1",
   "metadata": {},
   "outputs": [],
   "source": [
    "## DO NOT REMOVE\n",
    "zero_counts = np.count_nonzero(np_exp == 0, axis=0)\n",
    "plt.scatter(x=np_exp.mean(axis=0),\n",
    "            y=np_exp.var(axis=0),\n",
    "            c=zero_counts,\n",
    "            cmap='viridis',\n",
    "            marker='o',\n",
    "            alpha=0.5)\n",
    "plt.xlabel(\"Mean Metabolite Abundance (Log 2 Scale)\")\n",
    "plt.ylabel(\"Variance Metabolite Abundance (Log 2 Scale)\")\n",
    "plt.xscale('log', base=2)\n",
    "plt.yscale('log', base=2)\n",
    "plt.colorbar(label='Number of Zeroes')\n",
    "plt.title(\"Mean-Variance Plot\")"
   ]
  },
  {
   "cell_type": "code",
   "execution_count": null,
   "id": "26728aa4",
   "metadata": {},
   "outputs": [],
   "source": [
    "type(np_df == 0)"
   ]
  },
  {
   "cell_type": "code",
   "execution_count": null,
   "id": "3ce5edb0",
   "metadata": {},
   "outputs": [],
   "source": [
    "## DO NOT REMOVE\n",
    "plt.hist(\n",
    "    np_exp[:,100],\n",
    ")\n",
    "plt.title(\"Histogram of Processed Metabolite Abundances\")\n",
    "plt.show()"
   ]
  },
  {
   "cell_type": "code",
   "execution_count": null,
   "id": "c6255492",
   "metadata": {},
   "outputs": [],
   "source": [
    "# BRCA1 ccRCC3  ccRCC4  COAD    GBM HurthleCC   PDAC    PRAD\n",
    "target_cohort = \"BRCA1\"\n",
    "START_IDX = len(cohorts[\"ccRCC3\"]['sample_list']) * 0\n",
    "END_IDX = len(cohorts[target_cohort]['sample_list'])\n",
    "cohort_df = np_df[START_IDX:START_IDX+END_IDX]\n",
    "zero_counts = np.count_nonzero(cohort_df == 0, axis=0)\n",
    "\n",
    "plt.scatter(x=cohort_df.mean(axis=0),\n",
    "            y=cohort_df.var(axis=0),\n",
    "            c=zero_counts,\n",
    "            cmap='viridis',\n",
    "            marker='o',\n",
    "            alpha=0.3)\n",
    "plt.xlabel(\"Mean Metabolite Abundance (Log 2)\")\n",
    "plt.ylabel(\"Variance Metabolite Abundance (Log 2)\")\n",
    "plt.title(target_cohort)\n",
    "plt.colorbar(label='Number of Zeroes')"
   ]
  },
  {
   "cell_type": "code",
   "execution_count": null,
   "id": "003f59a2",
   "metadata": {},
   "outputs": [],
   "source": [
    "# Gets the indices of the 26 metabolites present across all samples (26)\n",
    "# set([x for x in range(0,1915)]) - set(np.unique(np.where(np_df == 0)[1]))"
   ]
  },
  {
   "cell_type": "code",
   "execution_count": null,
   "id": "285808d3",
   "metadata": {},
   "outputs": [],
   "source": [
    "from sklearn.decomposition import PCA\n",
    "import matplotlib.pyplot as plt\n",
    "np_df = df.T.to_numpy()\n",
    "pca_model = PCA(n_components=2)\n",
    "results = pca_model.fit_transform(np_df)\n",
    "print(pca_model.explained_variance_ratio_)\n",
    "plt.scatter(results[0:47,0], results[0:47, 1], c='red'          ,label=\"BRCA1\")\n",
    "plt.scatter(results[47:86,0], results[47:86, 1], c='orange'     ,label=\"COAD\")\n",
    "plt.scatter(results[86:133,0], results[86:133, 1], c='yellow'   ,label=\"ccRCC3\")\n",
    "plt.scatter(results[133:157,0], results[133:157, 1], c='green'  ,label=\"ccRCC4\")\n",
    "plt.scatter(results[157:163,0], results[157:163, 1], c='blue'   ,label=\"GBM\")\n",
    "plt.scatter(results[163:166,0], results[163:166, 1], c='purple' ,label=\"HurthleCC\")\n",
    "plt.scatter(results[166:178,0], results[166:178, 1], c='pink'   ,label=\"PDAC\")\n",
    "plt.scatter(results[178:224,0], results[178:224, 1], c='black'  ,label=\"PRAD\")\n",
    "plt.legend()\n",
    "plt.show()"
   ]
  },
  {
   "cell_type": "code",
   "execution_count": null,
   "id": "7b47e7e7",
   "metadata": {},
   "outputs": [],
   "source": [
    "from sklearn.mixture import GaussianMixture\n",
    "\n",
    "gmm = GaussianMixture(n_components=8)\n",
    "gmm = gmm.fit(np_df)"
   ]
  },
  {
   "cell_type": "code",
   "execution_count": null,
   "id": "3753ba6b",
   "metadata": {},
   "outputs": [],
   "source": [
    "results = gmm.sample(n_samples=1000)"
   ]
  },
  {
   "cell_type": "code",
   "execution_count": null,
   "id": "e00b06b8",
   "metadata": {},
   "outputs": [],
   "source": [
    "import pandas as pd\n",
    "pd.Series(results[1]).value_counts()"
   ]
  },
  {
   "cell_type": "code",
   "execution_count": null,
   "id": "a7f462fd",
   "metadata": {},
   "outputs": [],
   "source": [
    "pca_new = PCA(n_components=2)\n",
    "results_new = pca_model.transform(results[0])\n",
    "# results_new = pca_model.transform(results[0])\n",
    "# plt.scatter(results_new[0:224,0]   , results_new[0:224, 1], c='red'          ,label=\"BRCA1\")\n",
    "# plt.scatter(results_new[224:426,0]  , results_new[224:426, 1], c='orange'     ,label=\"COAD\")\n",
    "# plt.scatter(results_new[426:609,0] , results_new[426:609, 1], c='yellow'   ,label=\"ccRCC3\")\n",
    "# plt.scatter(results_new[609:785,0], results_new[609:785, 1], c='green'  ,label=\"ccRCC4\")\n",
    "# plt.scatter(results_new[785:903,0], results_new[785:903, 1], c='blue'   ,label=\"GBM\")\n",
    "# plt.scatter(results_new[903:956,0], results_new[903:956, 1], c='purple' ,label=\"HurthleCC\")\n",
    "# plt.scatter(results_new[956:983,0], results_new[956:983, 1], c='pink'   ,label=\"PDAC\")\n",
    "plt.scatter(results_new[983:1000,0], results_new[983:1000, 1], c='black'  ,label=\"PRAD\")\n",
    "plt.legend()\n",
    "plt.show()"
   ]
  },
  {
   "cell_type": "code",
   "execution_count": null,
   "id": "50ec83a4",
   "metadata": {},
   "outputs": [],
   "source": [
    "# pca_new = PCA(n_components=2)\n",
    "results_new = pca_model.transform(results[0])\n",
    "# plt.scatter(results_new[0:47,0]   , results_new[0:47, 1], c='red'          ,label=\"BRCA1\")\n",
    "# plt.scatter(results_new[47:86,0]  , results_new[47:86, 1], c='orange'     ,label=\"COAD\")\n",
    "# plt.scatter(results_new[86:133,0] , results_new[86:133, 1], c='yellow'   ,label=\"ccRCC3\")\n",
    "# plt.scatter(results_new[133:157,0], results_new[133:157, 1], c='green'  ,label=\"ccRCC4\")\n",
    "# plt.scatter(results_new[157:163,0], results_new[157:163, 1], c='blue'   ,label=\"GBM\")\n",
    "# plt.scatter(results_new[163:166,0], results_new[163:166, 1], c='purple' ,label=\"HurthleCC\")\n",
    "# plt.scatter(results_new[166:178,0], results_new[166:178, 1], c='pink'   ,label=\"PDAC\")\n",
    "# plt.scatter(results_new[178:224,0], results_new[178:224, 1], c='black'  ,label=\"PRAD\")\n",
    "plt.legend()\n",
    "plt.show()"
   ]
  },
  {
   "cell_type": "code",
   "execution_count": null,
   "id": "bc1d9e70",
   "metadata": {},
   "outputs": [],
   "source": [
    "# Get the xls file\n",
    "cohort_name = \"PRAD\"\n",
    "xls = pd.ExcelFile(f'data/PreprocessedData_{cohort_name}.xlsx')\n",
    "\n",
    "# Get the dataframes for the preprocessed metabolomics data\n",
    "# t = xls.parse(\"metabo_imputed_filtered_Tumor\")\n",
    "n = xls.parse(\"metabo_imputed_filtered_Normal\")\n",
    "\n",
    "# Replace IDs of the dataframes\n",
    "# t.rename({\"Unnamed: 0\": \"t_met\"}, inplace=True, axis=1)\n",
    "n.rename({\"Unnamed: 0\": \"n_met\"}, inplace=True, axis=1)\n",
    "\n",
    "# Get list of metabolites\n",
    "# t_list = t[\"t_met\"].to_list()\n",
    "n_list = n[\"n_met\"].to_list()\n",
    "# met_list = list(set(t_list) | set(n_list))\n",
    "\n",
    "# Create a dictionary of the metabolite names and HMDB IDs\n",
    "###########\n",
    "# 05/25/25 - Eliminated HMDB IDs use because only 72% of the features have HMDB IDs across all cohorts\n",
    "# For Reference:\n",
    "#           TOTAL_FEATURES  TOTAL_FEATURES_WITH_HMDB_IDS\n",
    "# BRCA1     324             215\n",
    "# COAD      160\t            141\n",
    "# ccRCC3    727\t            551\n",
    "# ccRCC4    951\t            701\n",
    "# GBM       704\t            357\n",
    "# HurthleCC 668\t            523\n",
    "# PDAC      325\t            279\n",
    "# PRAD      382\t            320\n",
    "###########\n",
    "# metanno = xls.parse(\"metanno\")\n",
    "# metanno_dict = metanno.set_index(\"H_name\")[\"H_HMDB\"].to_dict()\n",
    "# hmdb_list = set(metanno.loc[metanno[\"H_name\"].isin(n_list)][\"H_HMDB\"].tolist()\n",
    "\n",
    "\n",
    "# Get dataframe with only sorted shared metabolites\n",
    "# t_shared = t[t[\"t_met\"].isin(met_list)]\n",
    "# t_shared.sort_values(\"t_met\", ignore_index=True, inplace=True)\n",
    "# n_shared = n[n[\"n_met\"].isin(met_list)]\n",
    "# n_shared.sort_values(\"n_met\", ignore_index=True, inplace=True)\n",
    "# merged = pd.concat([t_shared, n_shared], axis=1)\n",
    "\n",
    "# n = n.set_index(n[\"n_met\"])\n",
    "n_no_labels = n.drop(labels=['n_met'], axis=1)\n",
    "print(n.set_index(\"n_met\"))"
   ]
  }
 ],
 "metadata": {
  "kernelspec": {
   "display_name": "metabodgd",
   "language": "python",
   "name": "python3"
  },
  "language_info": {
   "codemirror_mode": {
    "name": "ipython",
    "version": 3
   },
   "file_extension": ".py",
   "mimetype": "text/x-python",
   "name": "python",
   "nbconvert_exporter": "python",
   "pygments_lexer": "ipython3",
   "version": "3.12.9"
  }
 },
 "nbformat": 4,
 "nbformat_minor": 5
}
