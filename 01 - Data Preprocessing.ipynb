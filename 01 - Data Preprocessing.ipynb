{
 "cells": [
  {
   "cell_type": "markdown",
   "id": "6ac46950",
   "metadata": {},
   "source": [
    "# 01 - Data Preprocessing"
   ]
  },
  {
   "cell_type": "markdown",
   "id": "0a734dd5",
   "metadata": {},
   "source": [
    "## A - Libraries"
   ]
  },
  {
   "cell_type": "code",
   "execution_count": 1,
   "id": "e5831400",
   "metadata": {},
   "outputs": [],
   "source": [
    "import os\n",
    "import pickle\n",
    "import pandas as pd\n",
    "import numpy as np\n",
    "from metaboDGD.util import data"
   ]
  },
  {
   "cell_type": "markdown",
   "id": "13b7d12d",
   "metadata": {},
   "source": [
    "## B - Retrieving Separate Datasets (NORMAL)"
   ]
  },
  {
   "cell_type": "code",
   "execution_count": 2,
   "id": "215cd58e",
   "metadata": {},
   "outputs": [],
   "source": [
    "# Combine the CAMP cohort datasets to one dataframe\n",
    "df, cohorts = data.combine_cohort_datasets('Normal')"
   ]
  },
  {
   "cell_type": "code",
   "execution_count": 3,
   "id": "212924a7",
   "metadata": {},
   "outputs": [],
   "source": [
    "# Convert the df to a numpy array of dim (# samples, # metabolites)\n",
    "np_df = df.T.to_numpy()[:, :-1].astype(np.float64)\n",
    "\n",
    "# Get cells that have a 0.0\n",
    "np_df_zm = (np_df == 0)\n",
    "\n",
    "# Exponentiate the df by 2\n",
    "np_exp = np.exp2(np_df)\n",
    "\n",
    "# Retain the 0.0 values\n",
    "np_exp[np_df_zm] = 0.0\n",
    "\n",
    "# Recreate the exponent version of the dataframe\n",
    "df_rows = list(df.T.index)\n",
    "df_cols = list(df.T.columns)\n",
    "df_exp = pd.DataFrame(np_exp, index=df_rows, columns=df_cols[:-1])\n"
   ]
  },
  {
   "cell_type": "code",
   "execution_count": 4,
   "id": "440c5bc3",
   "metadata": {},
   "outputs": [],
   "source": [
    "dir = 'outputs/'\n",
    "if not os.path.exists(dir):\n",
    "    os.makedirs(dir)\n",
    "\n",
    "df_fname = 'CombinedDataset_CAMP_Normal.csv'\n",
    "df.to_csv(dir + df_fname)\n",
    "\n",
    "# df_exp_fname = 'Exponent_CombinedDataset_CAMP_Normal.csv'\n",
    "# df_exp.to_csv(dir + df_exp_fname)\n",
    "\n",
    "ch_fname = 'cohorts_Normal.pkl'\n",
    "f = open(dir + ch_fname, 'wb')\n",
    "pickle.dump(cohorts, f)\n",
    "f.close()"
   ]
  },
  {
   "cell_type": "markdown",
   "id": "0a8ce392",
   "metadata": {},
   "source": [
    "## C - Retrieving Separate Datasets (TUMOR)"
   ]
  },
  {
   "cell_type": "code",
   "execution_count": 5,
   "id": "68bc4e57",
   "metadata": {},
   "outputs": [],
   "source": [
    "df_tumor, cohorts_tumor = data.combine_cohort_datasets('Tumor')"
   ]
  },
  {
   "cell_type": "code",
   "execution_count": 6,
   "id": "f10e7002",
   "metadata": {},
   "outputs": [],
   "source": [
    "# Drop columns not present in the list of features in df\n",
    "df_tumor = df_tumor.drop(index=list(set(df_tumor.index.to_list()) - set(df.index.to_list())))\n",
    "\n",
    "# Get remaining columns in df not present in df_tumor\n",
    "in_df_not_in_tumor = list(set(df.index.to_list()) - set(df_tumor.index.to_list()))\n",
    "\n",
    "# Union and initialize to zero\n",
    "df_tumor = df_tumor.reindex(df_tumor.index.union(in_df_not_in_tumor))\n",
    "df_tumor.loc[in_df_not_in_tumor] = 0.0"
   ]
  },
  {
   "cell_type": "code",
   "execution_count": 7,
   "id": "3654954a",
   "metadata": {},
   "outputs": [],
   "source": [
    "dir = 'outputs/'\n",
    "if not os.path.exists(dir):\n",
    "    os.makedirs(dir)\n",
    "\n",
    "df_fname = 'CombinedDataset_CAMP_Tumor.csv'\n",
    "df_tumor.to_csv(dir + df_fname)\n",
    "\n",
    "# df_exp_fname = 'Exponent_CombinedDataset_CAMP.csv'\n",
    "# df_exp.to_csv(dir + df_exp_fname)\n",
    "\n",
    "ch_fname = 'cohorts_Tumor.pkl'\n",
    "f = open(dir + ch_fname, 'wb')\n",
    "pickle.dump(cohorts_tumor, f)\n",
    "f.close()"
   ]
  }
 ],
 "metadata": {
  "kernelspec": {
   "display_name": "metabodgd",
   "language": "python",
   "name": "python3"
  },
  "language_info": {
   "codemirror_mode": {
    "name": "ipython",
    "version": 3
   },
   "file_extension": ".py",
   "mimetype": "text/x-python",
   "name": "python",
   "nbconvert_exporter": "python",
   "pygments_lexer": "ipython3",
   "version": "3.12.9"
  }
 },
 "nbformat": 4,
 "nbformat_minor": 5
}
