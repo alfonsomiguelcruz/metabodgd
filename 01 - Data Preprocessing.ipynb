{
 "cells": [
  {
   "cell_type": "markdown",
   "id": "6ac46950",
   "metadata": {},
   "source": [
    "# 01 - Data Preprocessing"
   ]
  },
  {
   "cell_type": "markdown",
   "id": "0a734dd5",
   "metadata": {},
   "source": [
    "## I. Preliminaries"
   ]
  },
  {
   "cell_type": "markdown",
   "id": "afabea41",
   "metadata": {},
   "source": [
    "Import the libraries and functions for data preprocessing."
   ]
  },
  {
   "cell_type": "code",
   "execution_count": 1,
   "id": "e5831400",
   "metadata": {},
   "outputs": [],
   "source": [
    "import os\n",
    "import pickle\n",
    "import pandas as pd\n",
    "import numpy as np\n",
    "from metaboDGD.util import data"
   ]
  },
  {
   "cell_type": "markdown",
   "id": "9dbd9369",
   "metadata": {},
   "source": [
    "Create an `outputs` directory for storing the output files."
   ]
  },
  {
   "cell_type": "code",
   "execution_count": null,
   "id": "eccea828",
   "metadata": {},
   "outputs": [],
   "source": [
    "dir = 'outputs/'\n",
    "if not os.path.exists(dir):\n",
    "    os.makedirs(dir)"
   ]
  },
  {
   "cell_type": "markdown",
   "id": "13b7d12d",
   "metadata": {},
   "source": [
    "## II. Retrieving metabolite abundance data"
   ]
  },
  {
   "cell_type": "markdown",
   "id": "18588b94",
   "metadata": {},
   "source": [
    "### A. Get abundance data from adjacent normal tissue samples"
   ]
  },
  {
   "cell_type": "code",
   "execution_count": null,
   "id": "212924a7",
   "metadata": {},
   "outputs": [],
   "source": [
    "# Combine the metabolite abundance datasets to one dataframe\n",
    "df, cohorts = data.combine_cohort_datasets('Normal')\n",
    "\n",
    "# Convert dataframe to a numpy array of shape (no. of samples, no. of metabolites)\n",
    "np_df = df.T.to_numpy()[:, :-1].astype(np.float64)"
   ]
  },
  {
   "cell_type": "code",
   "execution_count": null,
   "id": "440c5bc3",
   "metadata": {},
   "outputs": [],
   "source": [
    "# Save dataframe as a CSV file\n",
    "df_fname = 'CombinedDataset_CAMP_Normal.csv'\n",
    "df.to_csv(dir + df_fname)\n",
    "\n",
    "# Save cohorts dictionary as a pickle file\n",
    "ch_fname = 'cohorts_Normal.pkl'\n",
    "f = open(dir + ch_fname, 'wb')\n",
    "pickle.dump(cohorts, f)\n",
    "f.close()"
   ]
  },
  {
   "cell_type": "markdown",
   "id": "0a8ce392",
   "metadata": {},
   "source": [
    "### B. Get abundance data from tumor tissue samples"
   ]
  },
  {
   "cell_type": "code",
   "execution_count": null,
   "id": "f10e7002",
   "metadata": {},
   "outputs": [],
   "source": [
    "# Combine the metabolite abundance datasets to one dataframe\n",
    "df_tumor, cohorts_tumor = data.combine_cohort_datasets('Tumor')\n",
    "\n",
    "# Drop columns not present in the list of metabolites in the dataframe\n",
    "df_tumor = df_tumor.drop(index=list(set(df_tumor.index.to_list()) - set(df.index.to_list())))\n",
    "\n",
    "# Get remaining columns in dataframe not present in df_tumor\n",
    "in_df_not_in_tumor = list(set(df.index.to_list()) - set(df_tumor.index.to_list()))\n",
    "\n",
    "# Union and initialize to zero\n",
    "df_tumor = df_tumor.reindex(df_tumor.index.union(in_df_not_in_tumor))\n",
    "df_tumor.loc[in_df_not_in_tumor] = 0.0"
   ]
  },
  {
   "cell_type": "code",
   "execution_count": null,
   "id": "3654954a",
   "metadata": {},
   "outputs": [],
   "source": [
    "# Save dataframe as a CSV file\n",
    "df_fname = 'CombinedDataset_CAMP_Tumor.csv'\n",
    "df_tumor.to_csv(dir + df_fname)\n",
    "\n",
    "# Save cohorts dictionary as a pickle file\n",
    "ch_fname = 'cohorts_Tumor.pkl'\n",
    "f = open(dir + ch_fname, 'wb')\n",
    "pickle.dump(cohorts_tumor, f)\n",
    "f.close()"
   ]
  },
  {
   "cell_type": "markdown",
   "id": "2f3bb697",
   "metadata": {},
   "source": [
    "## III. - MarkerDB"
   ]
  },
  {
   "cell_type": "code",
   "execution_count": null,
   "id": "1bce40ef",
   "metadata": {},
   "outputs": [],
   "source": [
    "diag_df = pd.read_csv('all_chemicals.tsv', delimiter='\\t', encoding='latin-1')\n",
    "# diag_df = pd.read_csv('all_diagnostic_chemicals.tsv', delimiter='\\t', encoding='latin-1')\n",
    "cancer_df = diag_df[diag_df['conditions'].str.contains('cancer', case=False, na=False)]"
   ]
  },
  {
   "cell_type": "code",
   "execution_count": null,
   "id": "d6e9987a",
   "metadata": {},
   "outputs": [],
   "source": [
    "cancer_df['conditions'].value_counts()"
   ]
  },
  {
   "cell_type": "code",
   "execution_count": null,
   "id": "6d82f349",
   "metadata": {},
   "outputs": [],
   "source": [
    "cancer_df.loc[cancer_df['conditions'] == 'Prostate Cancer']"
   ]
  }
 ],
 "metadata": {
  "kernelspec": {
   "display_name": "metabodgd",
   "language": "python",
   "name": "python3"
  },
  "language_info": {
   "codemirror_mode": {
    "name": "ipython",
    "version": 3
   },
   "file_extension": ".py",
   "mimetype": "text/x-python",
   "name": "python",
   "nbconvert_exporter": "python",
   "pygments_lexer": "ipython3",
   "version": "3.12.9"
  }
 },
 "nbformat": 4,
 "nbformat_minor": 5
}
